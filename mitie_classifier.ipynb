{
  "nbformat": 4,
  "nbformat_minor": 0,
  "metadata": {
    "colab": {
      "name": "mitie_classifier.ipynb",
      "provenance": [],
      "authorship_tag": "ABX9TyOEMC7408sp/BUhNASoKxng",
      "include_colab_link": true
    },
    "kernelspec": {
      "name": "python3",
      "display_name": "Python 3"
    }
  },
  "cells": [
    {
      "cell_type": "markdown",
      "metadata": {
        "id": "view-in-github",
        "colab_type": "text"
      },
      "source": [
        "<a href=\"https://colab.research.google.com/github/450586509/Knowledge/blob/master/mitie_classifier.ipynb\" target=\"_parent\"><img src=\"https://colab.research.google.com/assets/colab-badge.svg\" alt=\"Open In Colab\"/></a>"
      ]
    },
    {
      "cell_type": "markdown",
      "metadata": {
        "id": "v7YLxFwZYBzY",
        "colab_type": "text"
      },
      "source": [
        "### 安装mitie"
      ]
    },
    {
      "cell_type": "code",
      "metadata": {
        "id": "PyooZWi4XUp5",
        "colab_type": "code",
        "colab": {
          "base_uri": "https://localhost:8080/",
          "height": 190
        },
        "outputId": "1587d351-f9cd-44b9-d402-8e992a81bec6"
      },
      "source": [
        "!pip install git+https://github.com/mit-nlp/MITIE.git\n"
      ],
      "execution_count": 1,
      "outputs": [
        {
          "output_type": "stream",
          "text": [
            "Collecting git+https://github.com/mit-nlp/MITIE.git\n",
            "  Cloning https://github.com/mit-nlp/MITIE.git to /tmp/pip-req-build-1m06sla5\n",
            "  Running command git clone -q https://github.com/mit-nlp/MITIE.git /tmp/pip-req-build-1m06sla5\n",
            "Building wheels for collected packages: mitie\n",
            "  Building wheel for mitie (setup.py) ... \u001b[?25l\u001b[?25hdone\n",
            "  Created wheel for mitie: filename=mitie-0.7.0-cp36-none-any.whl size=418704 sha256=8ce2739582465d500d5347c1d599fdc2f2d6ef7fcf8e47ce36d17f8adb14caed\n",
            "  Stored in directory: /tmp/pip-ephem-wheel-cache-_qi4nw6g/wheels/b4/c1/21/8e7e7e14cf3211bf5c73aad0b1d76d1186fbf681f4b9ef6c06\n",
            "Successfully built mitie\n",
            "Installing collected packages: mitie\n",
            "Successfully installed mitie-0.7.0\n"
          ],
          "name": "stdout"
        }
      ]
    },
    {
      "cell_type": "code",
      "metadata": {
        "id": "ZjlsBo2qXYRe",
        "colab_type": "code",
        "colab": {}
      },
      "source": [
        "import sys, os\n",
        "from mitie import *"
      ],
      "execution_count": 2,
      "outputs": []
    },
    {
      "cell_type": "markdown",
      "metadata": {
        "id": "HsbJt32LXU3b",
        "colab_type": "text"
      },
      "source": [
        "### 下载模型数据"
      ]
    },
    {
      "cell_type": "code",
      "metadata": {
        "id": "CdQDYw4-ZEjM",
        "colab_type": "code",
        "colab": {
          "base_uri": "https://localhost:8080/",
          "height": 535
        },
        "outputId": "148649a3-4b4e-4800-ec74-12bf5070af40"
      },
      "source": [
        "!curl -LO https://github.com/mit-nlp/MITIE/releases/download/v0.4/MITIE-models-v0.2.tar.bz2\n",
        "!tar -xvjf MITIE-models-v0.2.tar.bz2"
      ],
      "execution_count": 3,
      "outputs": [
        {
          "output_type": "stream",
          "text": [
            "  % Total    % Received % Xferd  Average Speed   Time    Time     Time  Current\n",
            "                                 Dload  Upload   Total   Spent    Left  Speed\n",
            "100   636  100   636    0     0    981      0 --:--:-- --:--:-- --:--:--   979\n",
            "100  415M  100  415M    0     0  14.6M      0  0:00:28  0:00:28 --:--:-- 16.3M\n",
            "MITIE-models/\n",
            "MITIE-models/english/\n",
            "MITIE-models/english/total_word_feature_extractor.dat\n",
            "MITIE-models/english/ner_model.dat\n",
            "MITIE-models/english/binary_relations/\n",
            "MITIE-models/english/binary_relations/rel_classifier_organization.organization_scope.organizations_with_this_scope.svm\n",
            "MITIE-models/english/binary_relations/rel_classifier_book.written_work.author.svm\n",
            "MITIE-models/english/binary_relations/rel_classifier_time.event.locations.svm\n",
            "MITIE-models/english/binary_relations/rel_classifier_time.event.people_involved.svm\n",
            "MITIE-models/english/binary_relations/rel_classifier_time.event.includes_event.svm\n",
            "MITIE-models/english/binary_relations/rel_classifier_people.person.parents.svm\n",
            "MITIE-models/english/binary_relations/rel_classifier_people.person.religion.svm\n",
            "MITIE-models/english/binary_relations/rel_classifier_people.deceased_person.place_of_death.svm\n",
            "MITIE-models/english/binary_relations/rel_classifier_people.person.place_of_birth.svm\n",
            "MITIE-models/english/binary_relations/rel_classifier_location.location.nearby_airports.svm\n",
            "MITIE-models/english/binary_relations/rel_classifier_people.person.nationality.svm\n",
            "MITIE-models/english/binary_relations/rel_classifier_law.inventor.inventions.svm\n",
            "MITIE-models/english/binary_relations/rel_classifier_people.person.ethnicity.svm\n",
            "MITIE-models/english/binary_relations/rel_classifier_film.film.directed_by.svm\n",
            "MITIE-models/english/binary_relations/rel_classifier_people.place_of_interment.interred_here.svm\n",
            "MITIE-models/english/binary_relations/rel_classifier_location.location.partially_contains.svm\n",
            "MITIE-models/english/binary_relations/rel_classifier_organization.organization.place_founded.svm\n",
            "MITIE-models/english/binary_relations/rel_classifier_organization.organization_founder.organizations_founded.svm\n",
            "MITIE-models/english/binary_relations/rel_classifier_location.location.contains.svm\n",
            "MITIE-models/english/binary_relations/rel_classifier_people.ethnicity.geographic_distribution.svm\n",
            "MITIE-models/english/binary_relations/rel_classifier_influence.influence_node.influenced_by.svm\n"
          ],
          "name": "stdout"
        }
      ]
    },
    {
      "cell_type": "markdown",
      "metadata": {
        "id": "DdIhqXQWXdPm",
        "colab_type": "text"
      },
      "source": [
        "### 构建模型"
      ]
    },
    {
      "cell_type": "code",
      "metadata": {
        "id": "VlJGdSZdYlQt",
        "colab_type": "code",
        "colab": {}
      },
      "source": [
        "trainer = text_categorizer_trainer(\"./MITIE-models/english/total_word_feature_extractor.dat\")\n"
      ],
      "execution_count": 4,
      "outputs": []
    },
    {
      "cell_type": "code",
      "metadata": {
        "id": "vFZ5gyH_Ynn6",
        "colab_type": "code",
        "colab": {}
      },
      "source": [
        "trainer.add_labeled_text([\"I\",\"am\",\"so\",\"happy\",\"and\",\"exciting\",\"to\",\"make\",\"this\"],\"positive\")\n",
        "trainer.add_labeled_text([\"What\",\"a\",\"black\",\"and\",\"bad\",\"day\"],\"negative\")"
      ],
      "execution_count": 5,
      "outputs": []
    },
    {
      "cell_type": "code",
      "metadata": {
        "id": "amacMLfUd8DG",
        "colab_type": "code",
        "colab": {}
      },
      "source": [
        "trainer.num_threads = 4\n",
        "cat = trainer.train()\n",
        "cat.save_to_disk(\"new_text_categorizer.dat\")"
      ],
      "execution_count": 6,
      "outputs": []
    },
    {
      "cell_type": "code",
      "metadata": {
        "id": "28CC_S6ZemFB",
        "colab_type": "code",
        "colab": {}
      },
      "source": [
        "test_tokens = [\"What\",\"a\",\"black\",\"and\",\"bad\",\"day\"]\n",
        "test_tokens_2 = [\"I\",\"am\",\"so\",\"happy\"]\n",
        "cat = text_categorizer(\"new_text_categorizer.dat\")"
      ],
      "execution_count": 7,
      "outputs": []
    },
    {
      "cell_type": "code",
      "metadata": {
        "id": "7m1tRtS7fbuv",
        "colab_type": "code",
        "colab": {
          "base_uri": "https://localhost:8080/",
          "height": 52
        },
        "outputId": "6cbeece1-701c-4154-9079-007bf1d20082"
      },
      "source": [
        "label, score = cat(test_tokens)\n",
        "print(label,score)\n",
        "label, score = cat(test_tokens_2)\n",
        "print(label,score)"
      ],
      "execution_count": 8,
      "outputs": [
        {
          "output_type": "stream",
          "text": [
            "negative 0.5000000000000001\n",
            "positive 0.400094619873794\n"
          ],
          "name": "stdout"
        }
      ]
    }
  ]
}