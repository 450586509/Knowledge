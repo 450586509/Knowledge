{
  "nbformat": 4,
  "nbformat_minor": 0,
  "metadata": {
    "colab": {
      "name": "event_classification.ipynb",
      "provenance": [],
      "authorship_tag": "ABX9TyOe+ObfiauypXacP94Olrjo",
      "include_colab_link": true
    },
    "kernelspec": {
      "name": "python3",
      "display_name": "Python 3"
    }
  },
  "cells": [
    {
      "cell_type": "markdown",
      "metadata": {
        "id": "view-in-github",
        "colab_type": "text"
      },
      "source": [
        "<a href=\"https://colab.research.google.com/github/450586509/Knowledge/blob/master/event_classification.ipynb\" target=\"_parent\"><img src=\"https://colab.research.google.com/assets/colab-badge.svg\" alt=\"Open In Colab\"/></a>"
      ]
    },
    {
      "cell_type": "code",
      "metadata": {
        "id": "spF0wjvuVmH9",
        "colab_type": "code",
        "colab": {
          "base_uri": "https://localhost:8080/",
          "height": 345
        },
        "outputId": "c4ea435f-4bb4-4862-a999-987b1eea0b1a"
      },
      "source": [
        "!pip install transformers\n",
        "import numpy as np\n",
        "import pandas as pd\n",
        "from sklearn.model_selection import train_test_split\n",
        "from sklearn.linear_model import LogisticRegression\n",
        "from sklearn.model_selection import GridSearchCV\n",
        "from sklearn.model_selection import cross_val_score\n",
        "import torch\n",
        "import transformers as tfs\n",
        "import warnings\n",
        "\n",
        "warnings.filterwarnings('ignore')"
      ],
      "execution_count": 3,
      "outputs": [
        {
          "output_type": "stream",
          "text": [
            "Requirement already satisfied: transformers in /usr/local/lib/python3.6/dist-packages (3.0.2)\n",
            "Requirement already satisfied: sacremoses in /usr/local/lib/python3.6/dist-packages (from transformers) (0.0.43)\n",
            "Requirement already satisfied: tokenizers==0.8.1.rc1 in /usr/local/lib/python3.6/dist-packages (from transformers) (0.8.1rc1)\n",
            "Requirement already satisfied: requests in /usr/local/lib/python3.6/dist-packages (from transformers) (2.23.0)\n",
            "Requirement already satisfied: packaging in /usr/local/lib/python3.6/dist-packages (from transformers) (20.4)\n",
            "Requirement already satisfied: tqdm>=4.27 in /usr/local/lib/python3.6/dist-packages (from transformers) (4.41.1)\n",
            "Requirement already satisfied: filelock in /usr/local/lib/python3.6/dist-packages (from transformers) (3.0.12)\n",
            "Requirement already satisfied: numpy in /usr/local/lib/python3.6/dist-packages (from transformers) (1.18.5)\n",
            "Requirement already satisfied: sentencepiece!=0.1.92 in /usr/local/lib/python3.6/dist-packages (from transformers) (0.1.91)\n",
            "Requirement already satisfied: dataclasses; python_version < \"3.7\" in /usr/local/lib/python3.6/dist-packages (from transformers) (0.7)\n",
            "Requirement already satisfied: regex!=2019.12.17 in /usr/local/lib/python3.6/dist-packages (from transformers) (2019.12.20)\n",
            "Requirement already satisfied: joblib in /usr/local/lib/python3.6/dist-packages (from sacremoses->transformers) (0.16.0)\n",
            "Requirement already satisfied: six in /usr/local/lib/python3.6/dist-packages (from sacremoses->transformers) (1.12.0)\n",
            "Requirement already satisfied: click in /usr/local/lib/python3.6/dist-packages (from sacremoses->transformers) (7.1.2)\n",
            "Requirement already satisfied: chardet<4,>=3.0.2 in /usr/local/lib/python3.6/dist-packages (from requests->transformers) (3.0.4)\n",
            "Requirement already satisfied: urllib3!=1.25.0,!=1.25.1,<1.26,>=1.21.1 in /usr/local/lib/python3.6/dist-packages (from requests->transformers) (1.24.3)\n",
            "Requirement already satisfied: certifi>=2017.4.17 in /usr/local/lib/python3.6/dist-packages (from requests->transformers) (2020.6.20)\n",
            "Requirement already satisfied: idna<3,>=2.5 in /usr/local/lib/python3.6/dist-packages (from requests->transformers) (2.10)\n",
            "Requirement already satisfied: pyparsing>=2.0.2 in /usr/local/lib/python3.6/dist-packages (from packaging->transformers) (2.4.7)\n"
          ],
          "name": "stdout"
        }
      ]
    },
    {
      "cell_type": "code",
      "metadata": {
        "id": "tpR2ZZBLWKpn",
        "colab_type": "code",
        "colab": {}
      },
      "source": [
        "dev_url = \"http://129.204.205.246/event_entity_dev_data.csv\"\n",
        "train_url = \"http://129.204.205.246/event_entity_train_data_label.csv\"\n",
        "train_df = pd.read_csv(train_url, delimiter='\\t', header=None)\n",
        "train_df.columns = [\"id\",\"text\",\"event_name\", \"company_name\"]\n",
        "train_df = train_df.head(1000)"
      ],
      "execution_count": 4,
      "outputs": []
    },
    {
      "cell_type": "markdown",
      "metadata": {
        "id": "_G539iN7XCfE",
        "colab_type": "text"
      },
      "source": [
        "### 过滤长度大于500的行。"
      ]
    },
    {
      "cell_type": "code",
      "metadata": {
        "id": "ls_fc-FVXBme",
        "colab_type": "code",
        "colab": {
          "base_uri": "https://localhost:8080/",
          "height": 415
        },
        "outputId": "6898707e-a3db-42cd-fcd5-c29bd2761c7b"
      },
      "source": [
        "print(train_df.shape)\n",
        "train_df[\"len\"] = train_df.text.apply((lambda x: len(x)))\n",
        "print(train_df.shape)\n",
        "print(train_df.head)\n",
        "for index, row in train_df.iterrows():\n",
        "  print(f\"\"\"index={index} text={row.get(\"text\")} len={len(row.get(\"text\"))}\"\"\")\n",
        "  if index > 5:\n",
        "    break"
      ],
      "execution_count": 5,
      "outputs": [
        {
          "output_type": "stream",
          "text": [
            "(1000, 4)\n",
            "(1000, 5)\n",
            "<bound method NDFrame.head of           id  ...  len\n",
            "0    2444634  ...   48\n",
            "1    2836026  ...   60\n",
            "2    2809128  ...   86\n",
            "3    2221860  ...   62\n",
            "4    2091205  ...   57\n",
            "..       ...  ...  ...\n",
            "995  2864864  ...   60\n",
            "996  2581395  ...   33\n",
            "997  2727028  ...   17\n",
            "998  2636106  ...   88\n",
            "999  2622581  ...  183\n",
            "\n",
            "[1000 rows x 5 columns]>\n",
            "index=0 text=世联君汇预计2017年净利下滑近8成至853万元中超电缆(002471)再遭中超集团减持5%股份 len=48\n",
            "index=1 text=LG空调亏损严重或效仿新科 两大缺陷遭退市尴尬华兰生物(002007)三季度净利下降45% 汇添富或为“失血门”跑路主力 len=60\n",
            "index=2 text=四方达(300179)股东减持60万股 套现414.6万元收到欧盟打款后希腊总理宣布辞职再选 欧盟紧急声明要求希腊恪守承诺巨力索具(002342)下调预测 因产品毛利率下降 len=86\n",
            "index=3 text=单元式空调抽查不合格名单春兰、日立产品入列北大荒(600598)计提坏账净利骤降83.5%好利来(002729)股东高位减持 len=62\n",
            "index=4 text=深航副总裁闪电辞职 “股权之争”仍迷离(IPO路演)龙大肉食(002726)一季度净利“反常”下滑 路演现场遭质疑 len=57\n",
            "index=5 text=ST皇台(000995)总经理辞职销售公司总经理接任电连技术的“一年之痒”:高管辞职业绩变脸股价破发逾三成 len=53\n",
            "index=6 text=国润新材因2017年报扔未披露被提示摘牌风险安德利头顶电商压力业绩下坡 自营模式存隐患中小板三公司发布高管辞职公告 len=57\n"
          ],
          "name": "stdout"
        }
      ]
    },
    {
      "cell_type": "code",
      "metadata": {
        "id": "fruur-Udfb28",
        "colab_type": "code",
        "colab": {
          "base_uri": "https://localhost:8080/",
          "height": 250
        },
        "outputId": "987c7321-7a04-424e-9c09-997758319acf"
      },
      "source": [
        "train_df = train_df[train_df.len < 500]\n",
        "print(f\"\"\"max_len={train_df[\"len\"].max()}\"\"\")\n",
        "print(f\"\"\"mean_len={train_df[\"len\"].mean()}\"\"\")\n",
        "print(f\"shape={train_df.shape}\")\n",
        "train_df.head()"
      ],
      "execution_count": 6,
      "outputs": [
        {
          "output_type": "stream",
          "text": [
            "max_len=183\n",
            "mean_len=62.41\n",
            "shape=(1000, 5)\n"
          ],
          "name": "stdout"
        },
        {
          "output_type": "execute_result",
          "data": {
            "text/html": [
              "<div>\n",
              "<style scoped>\n",
              "    .dataframe tbody tr th:only-of-type {\n",
              "        vertical-align: middle;\n",
              "    }\n",
              "\n",
              "    .dataframe tbody tr th {\n",
              "        vertical-align: top;\n",
              "    }\n",
              "\n",
              "    .dataframe thead th {\n",
              "        text-align: right;\n",
              "    }\n",
              "</style>\n",
              "<table border=\"1\" class=\"dataframe\">\n",
              "  <thead>\n",
              "    <tr style=\"text-align: right;\">\n",
              "      <th></th>\n",
              "      <th>id</th>\n",
              "      <th>text</th>\n",
              "      <th>event_name</th>\n",
              "      <th>company_name</th>\n",
              "      <th>len</th>\n",
              "    </tr>\n",
              "  </thead>\n",
              "  <tbody>\n",
              "    <tr>\n",
              "      <th>0</th>\n",
              "      <td>2444634</td>\n",
              "      <td>世联君汇预计2017年净利下滑近8成至853万元中超电缆(002471)再遭中超集团减持5%股份</td>\n",
              "      <td>业绩下滑</td>\n",
              "      <td>世联君汇</td>\n",
              "      <td>48</td>\n",
              "    </tr>\n",
              "    <tr>\n",
              "      <th>1</th>\n",
              "      <td>2836026</td>\n",
              "      <td>LG空调亏损严重或效仿新科 两大缺陷遭退市尴尬华兰生物(002007)三季度净利下降45% ...</td>\n",
              "      <td>业绩下滑</td>\n",
              "      <td>华兰生物</td>\n",
              "      <td>60</td>\n",
              "    </tr>\n",
              "    <tr>\n",
              "      <th>2</th>\n",
              "      <td>2809128</td>\n",
              "      <td>四方达(300179)股东减持60万股 套现414.6万元收到欧盟打款后希腊总理宣布辞职再选...</td>\n",
              "      <td>业绩下滑</td>\n",
              "      <td>巨力索具</td>\n",
              "      <td>86</td>\n",
              "    </tr>\n",
              "    <tr>\n",
              "      <th>3</th>\n",
              "      <td>2221860</td>\n",
              "      <td>单元式空调抽查不合格名单春兰、日立产品入列北大荒(600598)计提坏账净利骤降83.5%好...</td>\n",
              "      <td>业绩下滑</td>\n",
              "      <td>北大荒</td>\n",
              "      <td>62</td>\n",
              "    </tr>\n",
              "    <tr>\n",
              "      <th>4</th>\n",
              "      <td>2091205</td>\n",
              "      <td>深航副总裁闪电辞职 “股权之争”仍迷离(IPO路演)龙大肉食(002726)一季度净利“反常...</td>\n",
              "      <td>业绩下滑</td>\n",
              "      <td>龙大肉食</td>\n",
              "      <td>57</td>\n",
              "    </tr>\n",
              "  </tbody>\n",
              "</table>\n",
              "</div>"
            ],
            "text/plain": [
              "        id                                               text  ... company_name len\n",
              "0  2444634   世联君汇预计2017年净利下滑近8成至853万元中超电缆(002471)再遭中超集团减持5%股份  ...         世联君汇  48\n",
              "1  2836026  LG空调亏损严重或效仿新科 两大缺陷遭退市尴尬华兰生物(002007)三季度净利下降45% ...  ...         华兰生物  60\n",
              "2  2809128  四方达(300179)股东减持60万股 套现414.6万元收到欧盟打款后希腊总理宣布辞职再选...  ...         巨力索具  86\n",
              "3  2221860  单元式空调抽查不合格名单春兰、日立产品入列北大荒(600598)计提坏账净利骤降83.5%好...  ...          北大荒  62\n",
              "4  2091205  深航副总裁闪电辞职 “股权之争”仍迷离(IPO路演)龙大肉食(002726)一季度净利“反常...  ...         龙大肉食  57\n",
              "\n",
              "[5 rows x 5 columns]"
            ]
          },
          "metadata": {
            "tags": []
          },
          "execution_count": 6
        }
      ]
    },
    {
      "cell_type": "code",
      "metadata": {
        "id": "P2p81vUw7oG4",
        "colab_type": "code",
        "colab": {
          "base_uri": "https://localhost:8080/",
          "height": 86
        },
        "outputId": "3f478cb6-e2ad-4ea2-a286-7a991be2184a"
      },
      "source": [
        "event_counts = train_df.event_name.value_counts()\n",
        "print(f\"type of event_counts = {type(event_counts)}\")\n",
        "event_counts"
      ],
      "execution_count": 7,
      "outputs": [
        {
          "output_type": "stream",
          "text": [
            "type of event_counts = <class 'pandas.core.series.Series'>\n"
          ],
          "name": "stdout"
        },
        {
          "output_type": "execute_result",
          "data": {
            "text/plain": [
              "业绩下滑    834\n",
              "提现困难    166\n",
              "Name: event_name, dtype: int64"
            ]
          },
          "metadata": {
            "tags": []
          },
          "execution_count": 7
        }
      ]
    },
    {
      "cell_type": "code",
      "metadata": {
        "id": "3l3L7ULjnAWV",
        "colab_type": "code",
        "colab": {
          "base_uri": "https://localhost:8080/",
          "height": 69
        },
        "outputId": "c88e3581-6281-4c01-acbc-b1a80df69663"
      },
      "source": [
        "print(f\"样本最少为{event_counts.min()}\")\n",
        "print(f\"样本最多为{event_counts.max()}\")\n",
        "print(f\"样本平均为{round(event_counts.mean(),4)}\")"
      ],
      "execution_count": 8,
      "outputs": [
        {
          "output_type": "stream",
          "text": [
            "样本最少为166\n",
            "样本最多为834\n",
            "样本平均为500.0\n"
          ],
          "name": "stdout"
        }
      ]
    },
    {
      "cell_type": "code",
      "metadata": {
        "id": "41a2D9esBaXS",
        "colab_type": "code",
        "colab": {}
      },
      "source": [
        "#model_class, tokenizer_class, pretrained_weights = (tfs.BertModel, tfs.BertTokenizer, 'bert-base-chinese')\n",
        "model_class, tokenizer_class, pretrained_weights = (tfs.BertModel, tfs.BertTokenizer, 'bert-base-uncased')\n",
        "tokenizer = tokenizer_class.from_pretrained(pretrained_weights)\n",
        "model = model_class.from_pretrained(pretrained_weights)"
      ],
      "execution_count": 9,
      "outputs": []
    },
    {
      "cell_type": "code",
      "metadata": {
        "id": "fj9B3d6vLwoJ",
        "colab_type": "code",
        "colab": {
          "base_uri": "https://localhost:8080/",
          "height": 52
        },
        "outputId": "5f29885f-001b-44d0-f77c-c15d3e956dfc"
      },
      "source": [
        "print(tokenizer.encode(\"hello world 谢 稳 文\", add_special_tokens=True))\n",
        "print(tokenizer.encode(\"hello world 谢 稳 文\", add_special_tokens=False))\n",
        "#tokenizer.encode(\"hello world你好啊\", add_special_tokens=True)"
      ],
      "execution_count": 10,
      "outputs": [
        {
          "output_type": "stream",
          "text": [
            "[101, 7592, 2088, 100, 100, 1861, 102]\n",
            "[7592, 2088, 100, 100, 1861]\n"
          ],
          "name": "stdout"
        }
      ]
    },
    {
      "cell_type": "code",
      "metadata": {
        "id": "LHQzlvKhMV5i",
        "colab_type": "code",
        "colab": {
          "base_uri": "https://localhost:8080/",
          "height": 52
        },
        "outputId": "d5a8877d-c48a-4578-bcc8-248872f2a273"
      },
      "source": [
        "train_tokenized = train_df.text.apply((lambda x: tokenizer.encode(x, add_special_tokens=True)))\n",
        "print(f\"train_tokenized type = {type(train_tokenized)}\")\n",
        "train_max_len = 0\n",
        "for i in train_tokenized.values:\n",
        "    if len(i) > train_max_len:\n",
        "        train_max_len = len(i)\n",
        "\n",
        "train_padded = np.array([i + [0] * (train_max_len-len(i)) for i in train_tokenized.values])\n",
        "print(\"train set shape:\",train_padded.shape)\n"
      ],
      "execution_count": 11,
      "outputs": [
        {
          "output_type": "stream",
          "text": [
            "train_tokenized type = <class 'pandas.core.series.Series'>\n",
            "train set shape: (1000, 182)\n"
          ],
          "name": "stdout"
        }
      ]
    },
    {
      "cell_type": "code",
      "metadata": {
        "id": "zfbCTQfmPfB8",
        "colab_type": "code",
        "colab": {}
      },
      "source": [
        "train_attention_mask = np.where(train_padded != 0, 1, 0)\n"
      ],
      "execution_count": 12,
      "outputs": []
    },
    {
      "cell_type": "code",
      "metadata": {
        "id": "u4350mOfQH0I",
        "colab_type": "code",
        "colab": {}
      },
      "source": [
        "train_input_ids = torch.tensor(train_padded).long()\n",
        "train_attention_mask = torch.tensor(train_attention_mask).long()\n",
        "with torch.no_grad():\n",
        "    train_last_hidden_states = model(train_input_ids, attention_mask=train_attention_mask)"
      ],
      "execution_count": 13,
      "outputs": []
    },
    {
      "cell_type": "code",
      "metadata": {
        "id": "1hGMsjwZfLMu",
        "colab_type": "code",
        "colab": {}
      },
      "source": [
        "train_features = train_last_hidden_states[0][:,0,:].numpy()\n",
        "train_labels = train_df.event_name"
      ],
      "execution_count": 16,
      "outputs": []
    },
    {
      "cell_type": "markdown",
      "metadata": {
        "id": "KTs2Cv_LyNjz",
        "colab_type": "text"
      },
      "source": [
        "### 直接利用LogisticRegression模型训练。"
      ]
    },
    {
      "cell_type": "code",
      "metadata": {
        "id": "wL2qwvn1fMUJ",
        "colab_type": "code",
        "colab": {
          "base_uri": "https://localhost:8080/",
          "height": 35
        },
        "outputId": "2596cd10-98bf-4b36-8bbf-937419ad3610"
      },
      "source": [
        "lr_clf = LogisticRegression()\n",
        "lr_clf.fit(train_features, train_labels)\n",
        "lr_clf.score(train_features, train_labels)"
      ],
      "execution_count": 19,
      "outputs": [
        {
          "output_type": "execute_result",
          "data": {
            "text/plain": [
              "0.998"
            ]
          },
          "metadata": {
            "tags": []
          },
          "execution_count": 19
        }
      ]
    },
    {
      "cell_type": "code",
      "metadata": {
        "id": "WPBlGTSur8Z4",
        "colab_type": "code",
        "colab": {}
      },
      "source": [
        ""
      ],
      "execution_count": null,
      "outputs": []
    }
  ]
}