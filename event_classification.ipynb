{
  "nbformat": 4,
  "nbformat_minor": 0,
  "metadata": {
    "colab": {
      "name": "event_classification.ipynb",
      "provenance": [],
      "authorship_tag": "ABX9TyPhiVneOSFnJv8VepN226WA",
      "include_colab_link": true
    },
    "kernelspec": {
      "name": "python3",
      "display_name": "Python 3"
    },
    "accelerator": "GPU",
    "widgets": {
      "application/vnd.jupyter.widget-state+json": {
        "2d12b7da78894ae288d957b2d669da53": {
          "model_module": "@jupyter-widgets/controls",
          "model_name": "HBoxModel",
          "state": {
            "_view_name": "HBoxView",
            "_dom_classes": [],
            "_model_name": "HBoxModel",
            "_view_module": "@jupyter-widgets/controls",
            "_model_module_version": "1.5.0",
            "_view_count": null,
            "_view_module_version": "1.5.0",
            "box_style": "",
            "layout": "IPY_MODEL_b9669c6cd913434bb47526ac5a300b0b",
            "_model_module": "@jupyter-widgets/controls",
            "children": [
              "IPY_MODEL_1a3ad74b45934d21ad5df7fcb27370dd",
              "IPY_MODEL_89805e3b653e45a39d09cf77fa5c10b1"
            ]
          }
        },
        "b9669c6cd913434bb47526ac5a300b0b": {
          "model_module": "@jupyter-widgets/base",
          "model_name": "LayoutModel",
          "state": {
            "_view_name": "LayoutView",
            "grid_template_rows": null,
            "right": null,
            "justify_content": null,
            "_view_module": "@jupyter-widgets/base",
            "overflow": null,
            "_model_module_version": "1.2.0",
            "_view_count": null,
            "flex_flow": null,
            "width": null,
            "min_width": null,
            "border": null,
            "align_items": null,
            "bottom": null,
            "_model_module": "@jupyter-widgets/base",
            "top": null,
            "grid_column": null,
            "overflow_y": null,
            "overflow_x": null,
            "grid_auto_flow": null,
            "grid_area": null,
            "grid_template_columns": null,
            "flex": null,
            "_model_name": "LayoutModel",
            "justify_items": null,
            "grid_row": null,
            "max_height": null,
            "align_content": null,
            "visibility": null,
            "align_self": null,
            "height": null,
            "min_height": null,
            "padding": null,
            "grid_auto_rows": null,
            "grid_gap": null,
            "max_width": null,
            "order": null,
            "_view_module_version": "1.2.0",
            "grid_template_areas": null,
            "object_position": null,
            "object_fit": null,
            "grid_auto_columns": null,
            "margin": null,
            "display": null,
            "left": null
          }
        },
        "1a3ad74b45934d21ad5df7fcb27370dd": {
          "model_module": "@jupyter-widgets/controls",
          "model_name": "FloatProgressModel",
          "state": {
            "_view_name": "ProgressView",
            "style": "IPY_MODEL_a0fc3e3a30d64b9da8bdc4795b1328a0",
            "_dom_classes": [],
            "description": "Downloading: 100%",
            "_model_name": "FloatProgressModel",
            "bar_style": "success",
            "max": 109540,
            "_view_module": "@jupyter-widgets/controls",
            "_model_module_version": "1.5.0",
            "value": 109540,
            "_view_count": null,
            "_view_module_version": "1.5.0",
            "orientation": "horizontal",
            "min": 0,
            "description_tooltip": null,
            "_model_module": "@jupyter-widgets/controls",
            "layout": "IPY_MODEL_3fe644239c6e4291881aeeb16ef4c6d6"
          }
        },
        "89805e3b653e45a39d09cf77fa5c10b1": {
          "model_module": "@jupyter-widgets/controls",
          "model_name": "HTMLModel",
          "state": {
            "_view_name": "HTMLView",
            "style": "IPY_MODEL_72e40827a22443ffa77840e3211700fa",
            "_dom_classes": [],
            "description": "",
            "_model_name": "HTMLModel",
            "placeholder": "​",
            "_view_module": "@jupyter-widgets/controls",
            "_model_module_version": "1.5.0",
            "value": " 110k/110k [00:00&lt;00:00, 1.45MB/s]",
            "_view_count": null,
            "_view_module_version": "1.5.0",
            "description_tooltip": null,
            "_model_module": "@jupyter-widgets/controls",
            "layout": "IPY_MODEL_055a16321b3341e5b5c03bfe3440d558"
          }
        },
        "a0fc3e3a30d64b9da8bdc4795b1328a0": {
          "model_module": "@jupyter-widgets/controls",
          "model_name": "ProgressStyleModel",
          "state": {
            "_view_name": "StyleView",
            "_model_name": "ProgressStyleModel",
            "description_width": "initial",
            "_view_module": "@jupyter-widgets/base",
            "_model_module_version": "1.5.0",
            "_view_count": null,
            "_view_module_version": "1.2.0",
            "bar_color": null,
            "_model_module": "@jupyter-widgets/controls"
          }
        },
        "3fe644239c6e4291881aeeb16ef4c6d6": {
          "model_module": "@jupyter-widgets/base",
          "model_name": "LayoutModel",
          "state": {
            "_view_name": "LayoutView",
            "grid_template_rows": null,
            "right": null,
            "justify_content": null,
            "_view_module": "@jupyter-widgets/base",
            "overflow": null,
            "_model_module_version": "1.2.0",
            "_view_count": null,
            "flex_flow": null,
            "width": null,
            "min_width": null,
            "border": null,
            "align_items": null,
            "bottom": null,
            "_model_module": "@jupyter-widgets/base",
            "top": null,
            "grid_column": null,
            "overflow_y": null,
            "overflow_x": null,
            "grid_auto_flow": null,
            "grid_area": null,
            "grid_template_columns": null,
            "flex": null,
            "_model_name": "LayoutModel",
            "justify_items": null,
            "grid_row": null,
            "max_height": null,
            "align_content": null,
            "visibility": null,
            "align_self": null,
            "height": null,
            "min_height": null,
            "padding": null,
            "grid_auto_rows": null,
            "grid_gap": null,
            "max_width": null,
            "order": null,
            "_view_module_version": "1.2.0",
            "grid_template_areas": null,
            "object_position": null,
            "object_fit": null,
            "grid_auto_columns": null,
            "margin": null,
            "display": null,
            "left": null
          }
        },
        "72e40827a22443ffa77840e3211700fa": {
          "model_module": "@jupyter-widgets/controls",
          "model_name": "DescriptionStyleModel",
          "state": {
            "_view_name": "StyleView",
            "_model_name": "DescriptionStyleModel",
            "description_width": "",
            "_view_module": "@jupyter-widgets/base",
            "_model_module_version": "1.5.0",
            "_view_count": null,
            "_view_module_version": "1.2.0",
            "_model_module": "@jupyter-widgets/controls"
          }
        },
        "055a16321b3341e5b5c03bfe3440d558": {
          "model_module": "@jupyter-widgets/base",
          "model_name": "LayoutModel",
          "state": {
            "_view_name": "LayoutView",
            "grid_template_rows": null,
            "right": null,
            "justify_content": null,
            "_view_module": "@jupyter-widgets/base",
            "overflow": null,
            "_model_module_version": "1.2.0",
            "_view_count": null,
            "flex_flow": null,
            "width": null,
            "min_width": null,
            "border": null,
            "align_items": null,
            "bottom": null,
            "_model_module": "@jupyter-widgets/base",
            "top": null,
            "grid_column": null,
            "overflow_y": null,
            "overflow_x": null,
            "grid_auto_flow": null,
            "grid_area": null,
            "grid_template_columns": null,
            "flex": null,
            "_model_name": "LayoutModel",
            "justify_items": null,
            "grid_row": null,
            "max_height": null,
            "align_content": null,
            "visibility": null,
            "align_self": null,
            "height": null,
            "min_height": null,
            "padding": null,
            "grid_auto_rows": null,
            "grid_gap": null,
            "max_width": null,
            "order": null,
            "_view_module_version": "1.2.0",
            "grid_template_areas": null,
            "object_position": null,
            "object_fit": null,
            "grid_auto_columns": null,
            "margin": null,
            "display": null,
            "left": null
          }
        },
        "03e242e346a049d683df10ebb0dbadcf": {
          "model_module": "@jupyter-widgets/controls",
          "model_name": "HBoxModel",
          "state": {
            "_view_name": "HBoxView",
            "_dom_classes": [],
            "_model_name": "HBoxModel",
            "_view_module": "@jupyter-widgets/controls",
            "_model_module_version": "1.5.0",
            "_view_count": null,
            "_view_module_version": "1.5.0",
            "box_style": "",
            "layout": "IPY_MODEL_4dd20f92aac148c1874ef0fd3143c55d",
            "_model_module": "@jupyter-widgets/controls",
            "children": [
              "IPY_MODEL_8c98efeedaad40f8b1afdf3729dbc73a",
              "IPY_MODEL_20d4f999c00a43bdbc8ff337dd2b0576"
            ]
          }
        },
        "4dd20f92aac148c1874ef0fd3143c55d": {
          "model_module": "@jupyter-widgets/base",
          "model_name": "LayoutModel",
          "state": {
            "_view_name": "LayoutView",
            "grid_template_rows": null,
            "right": null,
            "justify_content": null,
            "_view_module": "@jupyter-widgets/base",
            "overflow": null,
            "_model_module_version": "1.2.0",
            "_view_count": null,
            "flex_flow": null,
            "width": null,
            "min_width": null,
            "border": null,
            "align_items": null,
            "bottom": null,
            "_model_module": "@jupyter-widgets/base",
            "top": null,
            "grid_column": null,
            "overflow_y": null,
            "overflow_x": null,
            "grid_auto_flow": null,
            "grid_area": null,
            "grid_template_columns": null,
            "flex": null,
            "_model_name": "LayoutModel",
            "justify_items": null,
            "grid_row": null,
            "max_height": null,
            "align_content": null,
            "visibility": null,
            "align_self": null,
            "height": null,
            "min_height": null,
            "padding": null,
            "grid_auto_rows": null,
            "grid_gap": null,
            "max_width": null,
            "order": null,
            "_view_module_version": "1.2.0",
            "grid_template_areas": null,
            "object_position": null,
            "object_fit": null,
            "grid_auto_columns": null,
            "margin": null,
            "display": null,
            "left": null
          }
        },
        "8c98efeedaad40f8b1afdf3729dbc73a": {
          "model_module": "@jupyter-widgets/controls",
          "model_name": "FloatProgressModel",
          "state": {
            "_view_name": "ProgressView",
            "style": "IPY_MODEL_5f978026210d4a01b439e0236d1e1901",
            "_dom_classes": [],
            "description": "Downloading: 100%",
            "_model_name": "FloatProgressModel",
            "bar_style": "success",
            "max": 624,
            "_view_module": "@jupyter-widgets/controls",
            "_model_module_version": "1.5.0",
            "value": 624,
            "_view_count": null,
            "_view_module_version": "1.5.0",
            "orientation": "horizontal",
            "min": 0,
            "description_tooltip": null,
            "_model_module": "@jupyter-widgets/controls",
            "layout": "IPY_MODEL_3a6cae460b5845f0a06780c7d95676ea"
          }
        },
        "20d4f999c00a43bdbc8ff337dd2b0576": {
          "model_module": "@jupyter-widgets/controls",
          "model_name": "HTMLModel",
          "state": {
            "_view_name": "HTMLView",
            "style": "IPY_MODEL_2f593361642740de872b584dd0405116",
            "_dom_classes": [],
            "description": "",
            "_model_name": "HTMLModel",
            "placeholder": "​",
            "_view_module": "@jupyter-widgets/controls",
            "_model_module_version": "1.5.0",
            "value": " 624/624 [00:10&lt;00:00, 58.6B/s]",
            "_view_count": null,
            "_view_module_version": "1.5.0",
            "description_tooltip": null,
            "_model_module": "@jupyter-widgets/controls",
            "layout": "IPY_MODEL_df65ada14a2c45a0931c66ce21182bde"
          }
        },
        "5f978026210d4a01b439e0236d1e1901": {
          "model_module": "@jupyter-widgets/controls",
          "model_name": "ProgressStyleModel",
          "state": {
            "_view_name": "StyleView",
            "_model_name": "ProgressStyleModel",
            "description_width": "initial",
            "_view_module": "@jupyter-widgets/base",
            "_model_module_version": "1.5.0",
            "_view_count": null,
            "_view_module_version": "1.2.0",
            "bar_color": null,
            "_model_module": "@jupyter-widgets/controls"
          }
        },
        "3a6cae460b5845f0a06780c7d95676ea": {
          "model_module": "@jupyter-widgets/base",
          "model_name": "LayoutModel",
          "state": {
            "_view_name": "LayoutView",
            "grid_template_rows": null,
            "right": null,
            "justify_content": null,
            "_view_module": "@jupyter-widgets/base",
            "overflow": null,
            "_model_module_version": "1.2.0",
            "_view_count": null,
            "flex_flow": null,
            "width": null,
            "min_width": null,
            "border": null,
            "align_items": null,
            "bottom": null,
            "_model_module": "@jupyter-widgets/base",
            "top": null,
            "grid_column": null,
            "overflow_y": null,
            "overflow_x": null,
            "grid_auto_flow": null,
            "grid_area": null,
            "grid_template_columns": null,
            "flex": null,
            "_model_name": "LayoutModel",
            "justify_items": null,
            "grid_row": null,
            "max_height": null,
            "align_content": null,
            "visibility": null,
            "align_self": null,
            "height": null,
            "min_height": null,
            "padding": null,
            "grid_auto_rows": null,
            "grid_gap": null,
            "max_width": null,
            "order": null,
            "_view_module_version": "1.2.0",
            "grid_template_areas": null,
            "object_position": null,
            "object_fit": null,
            "grid_auto_columns": null,
            "margin": null,
            "display": null,
            "left": null
          }
        },
        "2f593361642740de872b584dd0405116": {
          "model_module": "@jupyter-widgets/controls",
          "model_name": "DescriptionStyleModel",
          "state": {
            "_view_name": "StyleView",
            "_model_name": "DescriptionStyleModel",
            "description_width": "",
            "_view_module": "@jupyter-widgets/base",
            "_model_module_version": "1.5.0",
            "_view_count": null,
            "_view_module_version": "1.2.0",
            "_model_module": "@jupyter-widgets/controls"
          }
        },
        "df65ada14a2c45a0931c66ce21182bde": {
          "model_module": "@jupyter-widgets/base",
          "model_name": "LayoutModel",
          "state": {
            "_view_name": "LayoutView",
            "grid_template_rows": null,
            "right": null,
            "justify_content": null,
            "_view_module": "@jupyter-widgets/base",
            "overflow": null,
            "_model_module_version": "1.2.0",
            "_view_count": null,
            "flex_flow": null,
            "width": null,
            "min_width": null,
            "border": null,
            "align_items": null,
            "bottom": null,
            "_model_module": "@jupyter-widgets/base",
            "top": null,
            "grid_column": null,
            "overflow_y": null,
            "overflow_x": null,
            "grid_auto_flow": null,
            "grid_area": null,
            "grid_template_columns": null,
            "flex": null,
            "_model_name": "LayoutModel",
            "justify_items": null,
            "grid_row": null,
            "max_height": null,
            "align_content": null,
            "visibility": null,
            "align_self": null,
            "height": null,
            "min_height": null,
            "padding": null,
            "grid_auto_rows": null,
            "grid_gap": null,
            "max_width": null,
            "order": null,
            "_view_module_version": "1.2.0",
            "grid_template_areas": null,
            "object_position": null,
            "object_fit": null,
            "grid_auto_columns": null,
            "margin": null,
            "display": null,
            "left": null
          }
        },
        "fa6b53f53baa40e78058e7716c1e6080": {
          "model_module": "@jupyter-widgets/controls",
          "model_name": "HBoxModel",
          "state": {
            "_view_name": "HBoxView",
            "_dom_classes": [],
            "_model_name": "HBoxModel",
            "_view_module": "@jupyter-widgets/controls",
            "_model_module_version": "1.5.0",
            "_view_count": null,
            "_view_module_version": "1.5.0",
            "box_style": "",
            "layout": "IPY_MODEL_e29c2f8a73094ae392b738b11ec1254b",
            "_model_module": "@jupyter-widgets/controls",
            "children": [
              "IPY_MODEL_82cc702408e347ae9c0eec7ca20a734f",
              "IPY_MODEL_b441d7efe8b14131b23d3f1e17e4bd11"
            ]
          }
        },
        "e29c2f8a73094ae392b738b11ec1254b": {
          "model_module": "@jupyter-widgets/base",
          "model_name": "LayoutModel",
          "state": {
            "_view_name": "LayoutView",
            "grid_template_rows": null,
            "right": null,
            "justify_content": null,
            "_view_module": "@jupyter-widgets/base",
            "overflow": null,
            "_model_module_version": "1.2.0",
            "_view_count": null,
            "flex_flow": null,
            "width": null,
            "min_width": null,
            "border": null,
            "align_items": null,
            "bottom": null,
            "_model_module": "@jupyter-widgets/base",
            "top": null,
            "grid_column": null,
            "overflow_y": null,
            "overflow_x": null,
            "grid_auto_flow": null,
            "grid_area": null,
            "grid_template_columns": null,
            "flex": null,
            "_model_name": "LayoutModel",
            "justify_items": null,
            "grid_row": null,
            "max_height": null,
            "align_content": null,
            "visibility": null,
            "align_self": null,
            "height": null,
            "min_height": null,
            "padding": null,
            "grid_auto_rows": null,
            "grid_gap": null,
            "max_width": null,
            "order": null,
            "_view_module_version": "1.2.0",
            "grid_template_areas": null,
            "object_position": null,
            "object_fit": null,
            "grid_auto_columns": null,
            "margin": null,
            "display": null,
            "left": null
          }
        },
        "82cc702408e347ae9c0eec7ca20a734f": {
          "model_module": "@jupyter-widgets/controls",
          "model_name": "FloatProgressModel",
          "state": {
            "_view_name": "ProgressView",
            "style": "IPY_MODEL_33eedfc76fc34eeabb54618a42f1d539",
            "_dom_classes": [],
            "description": "Downloading: 100%",
            "_model_name": "FloatProgressModel",
            "bar_style": "success",
            "max": 411577189,
            "_view_module": "@jupyter-widgets/controls",
            "_model_module_version": "1.5.0",
            "value": 411577189,
            "_view_count": null,
            "_view_module_version": "1.5.0",
            "orientation": "horizontal",
            "min": 0,
            "description_tooltip": null,
            "_model_module": "@jupyter-widgets/controls",
            "layout": "IPY_MODEL_07b075a0f84f4bad989c5e4f9ca6414f"
          }
        },
        "b441d7efe8b14131b23d3f1e17e4bd11": {
          "model_module": "@jupyter-widgets/controls",
          "model_name": "HTMLModel",
          "state": {
            "_view_name": "HTMLView",
            "style": "IPY_MODEL_2380f2746efe4da58cdbdf655c8a0be7",
            "_dom_classes": [],
            "description": "",
            "_model_name": "HTMLModel",
            "placeholder": "​",
            "_view_module": "@jupyter-widgets/controls",
            "_model_module_version": "1.5.0",
            "value": " 412M/412M [00:09&lt;00:00, 45.4MB/s]",
            "_view_count": null,
            "_view_module_version": "1.5.0",
            "description_tooltip": null,
            "_model_module": "@jupyter-widgets/controls",
            "layout": "IPY_MODEL_70ee6e0dba14457fbe3b1303415b6c35"
          }
        },
        "33eedfc76fc34eeabb54618a42f1d539": {
          "model_module": "@jupyter-widgets/controls",
          "model_name": "ProgressStyleModel",
          "state": {
            "_view_name": "StyleView",
            "_model_name": "ProgressStyleModel",
            "description_width": "initial",
            "_view_module": "@jupyter-widgets/base",
            "_model_module_version": "1.5.0",
            "_view_count": null,
            "_view_module_version": "1.2.0",
            "bar_color": null,
            "_model_module": "@jupyter-widgets/controls"
          }
        },
        "07b075a0f84f4bad989c5e4f9ca6414f": {
          "model_module": "@jupyter-widgets/base",
          "model_name": "LayoutModel",
          "state": {
            "_view_name": "LayoutView",
            "grid_template_rows": null,
            "right": null,
            "justify_content": null,
            "_view_module": "@jupyter-widgets/base",
            "overflow": null,
            "_model_module_version": "1.2.0",
            "_view_count": null,
            "flex_flow": null,
            "width": null,
            "min_width": null,
            "border": null,
            "align_items": null,
            "bottom": null,
            "_model_module": "@jupyter-widgets/base",
            "top": null,
            "grid_column": null,
            "overflow_y": null,
            "overflow_x": null,
            "grid_auto_flow": null,
            "grid_area": null,
            "grid_template_columns": null,
            "flex": null,
            "_model_name": "LayoutModel",
            "justify_items": null,
            "grid_row": null,
            "max_height": null,
            "align_content": null,
            "visibility": null,
            "align_self": null,
            "height": null,
            "min_height": null,
            "padding": null,
            "grid_auto_rows": null,
            "grid_gap": null,
            "max_width": null,
            "order": null,
            "_view_module_version": "1.2.0",
            "grid_template_areas": null,
            "object_position": null,
            "object_fit": null,
            "grid_auto_columns": null,
            "margin": null,
            "display": null,
            "left": null
          }
        },
        "2380f2746efe4da58cdbdf655c8a0be7": {
          "model_module": "@jupyter-widgets/controls",
          "model_name": "DescriptionStyleModel",
          "state": {
            "_view_name": "StyleView",
            "_model_name": "DescriptionStyleModel",
            "description_width": "",
            "_view_module": "@jupyter-widgets/base",
            "_model_module_version": "1.5.0",
            "_view_count": null,
            "_view_module_version": "1.2.0",
            "_model_module": "@jupyter-widgets/controls"
          }
        },
        "70ee6e0dba14457fbe3b1303415b6c35": {
          "model_module": "@jupyter-widgets/base",
          "model_name": "LayoutModel",
          "state": {
            "_view_name": "LayoutView",
            "grid_template_rows": null,
            "right": null,
            "justify_content": null,
            "_view_module": "@jupyter-widgets/base",
            "overflow": null,
            "_model_module_version": "1.2.0",
            "_view_count": null,
            "flex_flow": null,
            "width": null,
            "min_width": null,
            "border": null,
            "align_items": null,
            "bottom": null,
            "_model_module": "@jupyter-widgets/base",
            "top": null,
            "grid_column": null,
            "overflow_y": null,
            "overflow_x": null,
            "grid_auto_flow": null,
            "grid_area": null,
            "grid_template_columns": null,
            "flex": null,
            "_model_name": "LayoutModel",
            "justify_items": null,
            "grid_row": null,
            "max_height": null,
            "align_content": null,
            "visibility": null,
            "align_self": null,
            "height": null,
            "min_height": null,
            "padding": null,
            "grid_auto_rows": null,
            "grid_gap": null,
            "max_width": null,
            "order": null,
            "_view_module_version": "1.2.0",
            "grid_template_areas": null,
            "object_position": null,
            "object_fit": null,
            "grid_auto_columns": null,
            "margin": null,
            "display": null,
            "left": null
          }
        }
      }
    }
  },
  "cells": [
    {
      "cell_type": "markdown",
      "metadata": {
        "id": "view-in-github",
        "colab_type": "text"
      },
      "source": [
        "<a href=\"https://colab.research.google.com/github/450586509/Knowledge/blob/master/event_classification.ipynb\" target=\"_parent\"><img src=\"https://colab.research.google.com/assets/colab-badge.svg\" alt=\"Open In Colab\"/></a>"
      ]
    },
    {
      "cell_type": "code",
      "metadata": {
        "id": "spF0wjvuVmH9",
        "colab_type": "code",
        "colab": {
          "base_uri": "https://localhost:8080/",
          "height": 610
        },
        "outputId": "1f70110b-c4f6-43f6-8d40-1711cb6d769f"
      },
      "source": [
        "!pip install transformers\n",
        "import numpy as np\n",
        "import pandas as pd\n",
        "from sklearn.model_selection import train_test_split\n",
        "from sklearn.linear_model import LogisticRegression\n",
        "from sklearn.model_selection import GridSearchCV\n",
        "from sklearn.model_selection import cross_val_score\n",
        "import torch\n",
        "import transformers as tfs\n",
        "import warnings\n",
        "\n",
        "warnings.filterwarnings('ignore')"
      ],
      "execution_count": 1,
      "outputs": [
        {
          "output_type": "stream",
          "text": [
            "Collecting transformers\n",
            "\u001b[?25l  Downloading https://files.pythonhosted.org/packages/27/3c/91ed8f5c4e7ef3227b4119200fc0ed4b4fd965b1f0172021c25701087825/transformers-3.0.2-py3-none-any.whl (769kB)\n",
            "\u001b[K     |████████████████████████████████| 778kB 2.9MB/s \n",
            "\u001b[?25hRequirement already satisfied: filelock in /usr/local/lib/python3.6/dist-packages (from transformers) (3.0.12)\n",
            "Collecting sacremoses\n",
            "\u001b[?25l  Downloading https://files.pythonhosted.org/packages/7d/34/09d19aff26edcc8eb2a01bed8e98f13a1537005d31e95233fd48216eed10/sacremoses-0.0.43.tar.gz (883kB)\n",
            "\u001b[K     |████████████████████████████████| 890kB 14.0MB/s \n",
            "\u001b[?25hCollecting sentencepiece!=0.1.92\n",
            "\u001b[?25l  Downloading https://files.pythonhosted.org/packages/d4/a4/d0a884c4300004a78cca907a6ff9a5e9fe4f090f5d95ab341c53d28cbc58/sentencepiece-0.1.91-cp36-cp36m-manylinux1_x86_64.whl (1.1MB)\n",
            "\u001b[K     |████████████████████████████████| 1.1MB 16.8MB/s \n",
            "\u001b[?25hRequirement already satisfied: packaging in /usr/local/lib/python3.6/dist-packages (from transformers) (20.4)\n",
            "Requirement already satisfied: tqdm>=4.27 in /usr/local/lib/python3.6/dist-packages (from transformers) (4.41.1)\n",
            "Collecting tokenizers==0.8.1.rc1\n",
            "\u001b[?25l  Downloading https://files.pythonhosted.org/packages/40/d0/30d5f8d221a0ed981a186c8eb986ce1c94e3a6e87f994eae9f4aa5250217/tokenizers-0.8.1rc1-cp36-cp36m-manylinux1_x86_64.whl (3.0MB)\n",
            "\u001b[K     |████████████████████████████████| 3.0MB 25.0MB/s \n",
            "\u001b[?25hRequirement already satisfied: requests in /usr/local/lib/python3.6/dist-packages (from transformers) (2.23.0)\n",
            "Requirement already satisfied: regex!=2019.12.17 in /usr/local/lib/python3.6/dist-packages (from transformers) (2019.12.20)\n",
            "Requirement already satisfied: numpy in /usr/local/lib/python3.6/dist-packages (from transformers) (1.18.5)\n",
            "Requirement already satisfied: dataclasses; python_version < \"3.7\" in /usr/local/lib/python3.6/dist-packages (from transformers) (0.7)\n",
            "Requirement already satisfied: six in /usr/local/lib/python3.6/dist-packages (from sacremoses->transformers) (1.12.0)\n",
            "Requirement already satisfied: click in /usr/local/lib/python3.6/dist-packages (from sacremoses->transformers) (7.1.2)\n",
            "Requirement already satisfied: joblib in /usr/local/lib/python3.6/dist-packages (from sacremoses->transformers) (0.16.0)\n",
            "Requirement already satisfied: pyparsing>=2.0.2 in /usr/local/lib/python3.6/dist-packages (from packaging->transformers) (2.4.7)\n",
            "Requirement already satisfied: certifi>=2017.4.17 in /usr/local/lib/python3.6/dist-packages (from requests->transformers) (2020.6.20)\n",
            "Requirement already satisfied: chardet<4,>=3.0.2 in /usr/local/lib/python3.6/dist-packages (from requests->transformers) (3.0.4)\n",
            "Requirement already satisfied: idna<3,>=2.5 in /usr/local/lib/python3.6/dist-packages (from requests->transformers) (2.10)\n",
            "Requirement already satisfied: urllib3!=1.25.0,!=1.25.1,<1.26,>=1.21.1 in /usr/local/lib/python3.6/dist-packages (from requests->transformers) (1.24.3)\n",
            "Building wheels for collected packages: sacremoses\n",
            "  Building wheel for sacremoses (setup.py) ... \u001b[?25l\u001b[?25hdone\n",
            "  Created wheel for sacremoses: filename=sacremoses-0.0.43-cp36-none-any.whl size=893260 sha256=b366f4507b4a9d3dfe207e559a3e4350c29c4a3b6f0363674d4530ca370d89cb\n",
            "  Stored in directory: /root/.cache/pip/wheels/29/3c/fd/7ce5c3f0666dab31a50123635e6fb5e19ceb42ce38d4e58f45\n",
            "Successfully built sacremoses\n",
            "Installing collected packages: sacremoses, sentencepiece, tokenizers, transformers\n",
            "Successfully installed sacremoses-0.0.43 sentencepiece-0.1.91 tokenizers-0.8.1rc1 transformers-3.0.2\n"
          ],
          "name": "stdout"
        }
      ]
    },
    {
      "cell_type": "code",
      "metadata": {
        "id": "tpR2ZZBLWKpn",
        "colab_type": "code",
        "colab": {}
      },
      "source": [
        "dev_url = \"http://129.204.205.246/event_entity_dev_data.csv\"\n",
        "train_url = \"http://129.204.205.246/event_entity_train_data_label.csv\"\n",
        "train_df = pd.read_csv(train_url, delimiter='\\t', header=None)\n",
        "train_df.columns = [\"id\",\"text\",\"event_name\", \"company_name\"]"
      ],
      "execution_count": 2,
      "outputs": []
    },
    {
      "cell_type": "markdown",
      "metadata": {
        "id": "_G539iN7XCfE",
        "colab_type": "text"
      },
      "source": [
        "### 过滤长度大于500的行。"
      ]
    },
    {
      "cell_type": "code",
      "metadata": {
        "id": "ls_fc-FVXBme",
        "colab_type": "code",
        "colab": {
          "base_uri": "https://localhost:8080/",
          "height": 418
        },
        "outputId": "915f25d3-39db-4662-99f8-171abb53b752"
      },
      "source": [
        "print(train_df.shape)\n",
        "train_df[\"len\"] = train_df.text.apply((lambda x: len(x)))\n",
        "print(train_df.shape)\n",
        "print(train_df.head)\n",
        "for index, row in train_df.iterrows():\n",
        "  print(f\"\"\"index={index} text={row.get(\"text\")} len={len(row.get(\"text\"))}\"\"\")\n",
        "  if index > 5:\n",
        "    break"
      ],
      "execution_count": 3,
      "outputs": [
        {
          "output_type": "stream",
          "text": [
            "(66761, 4)\n",
            "(66761, 5)\n",
            "<bound method NDFrame.head of             id  ...  len\n",
            "0      2444634  ...   48\n",
            "1      2836026  ...   60\n",
            "2      2809128  ...   86\n",
            "3      2221860  ...   62\n",
            "4      2091205  ...   57\n",
            "...        ...  ...  ...\n",
            "66756  2568107  ...   63\n",
            "66757  2688414  ...   53\n",
            "66758  2415192  ...  349\n",
            "66759  2983848  ...  322\n",
            "66760  2834817  ...   98\n",
            "\n",
            "[66761 rows x 5 columns]>\n",
            "index=0 text=世联君汇预计2017年净利下滑近8成至853万元中超电缆(002471)再遭中超集团减持5%股份 len=48\n",
            "index=1 text=LG空调亏损严重或效仿新科 两大缺陷遭退市尴尬华兰生物(002007)三季度净利下降45% 汇添富或为“失血门”跑路主力 len=60\n",
            "index=2 text=四方达(300179)股东减持60万股 套现414.6万元收到欧盟打款后希腊总理宣布辞职再选 欧盟紧急声明要求希腊恪守承诺巨力索具(002342)下调预测 因产品毛利率下降 len=86\n",
            "index=3 text=单元式空调抽查不合格名单春兰、日立产品入列北大荒(600598)计提坏账净利骤降83.5%好利来(002729)股东高位减持 len=62\n",
            "index=4 text=深航副总裁闪电辞职 “股权之争”仍迷离(IPO路演)龙大肉食(002726)一季度净利“反常”下滑 路演现场遭质疑 len=57\n",
            "index=5 text=ST皇台(000995)总经理辞职销售公司总经理接任电连技术的“一年之痒”:高管辞职业绩变脸股价破发逾三成 len=53\n",
            "index=6 text=国润新材因2017年报扔未披露被提示摘牌风险安德利头顶电商压力业绩下坡 自营模式存隐患中小板三公司发布高管辞职公告 len=57\n"
          ],
          "name": "stdout"
        }
      ]
    },
    {
      "cell_type": "code",
      "metadata": {
        "id": "fruur-Udfb28",
        "colab_type": "code",
        "colab": {
          "base_uri": "https://localhost:8080/",
          "height": 249
        },
        "outputId": "e97834bd-6ac3-46b5-baba-61336865701b"
      },
      "source": [
        "train_df = train_df[train_df.len < 500]\n",
        "print(f\"\"\"max_len={train_df[\"len\"].max()}\"\"\")\n",
        "print(f\"\"\"mean_len={train_df[\"len\"].mean()}\"\"\")\n",
        "print(f\"shape={train_df.shape}\")\n",
        "train_df.head()"
      ],
      "execution_count": 4,
      "outputs": [
        {
          "output_type": "stream",
          "text": [
            "max_len=499\n",
            "mean_len=86.30794621767306\n",
            "shape=(66044, 5)\n"
          ],
          "name": "stdout"
        },
        {
          "output_type": "execute_result",
          "data": {
            "text/html": [
              "<div>\n",
              "<style scoped>\n",
              "    .dataframe tbody tr th:only-of-type {\n",
              "        vertical-align: middle;\n",
              "    }\n",
              "\n",
              "    .dataframe tbody tr th {\n",
              "        vertical-align: top;\n",
              "    }\n",
              "\n",
              "    .dataframe thead th {\n",
              "        text-align: right;\n",
              "    }\n",
              "</style>\n",
              "<table border=\"1\" class=\"dataframe\">\n",
              "  <thead>\n",
              "    <tr style=\"text-align: right;\">\n",
              "      <th></th>\n",
              "      <th>id</th>\n",
              "      <th>text</th>\n",
              "      <th>event_name</th>\n",
              "      <th>company_name</th>\n",
              "      <th>len</th>\n",
              "    </tr>\n",
              "  </thead>\n",
              "  <tbody>\n",
              "    <tr>\n",
              "      <th>0</th>\n",
              "      <td>2444634</td>\n",
              "      <td>世联君汇预计2017年净利下滑近8成至853万元中超电缆(002471)再遭中超集团减持5%股份</td>\n",
              "      <td>业绩下滑</td>\n",
              "      <td>世联君汇</td>\n",
              "      <td>48</td>\n",
              "    </tr>\n",
              "    <tr>\n",
              "      <th>1</th>\n",
              "      <td>2836026</td>\n",
              "      <td>LG空调亏损严重或效仿新科 两大缺陷遭退市尴尬华兰生物(002007)三季度净利下降45% ...</td>\n",
              "      <td>业绩下滑</td>\n",
              "      <td>华兰生物</td>\n",
              "      <td>60</td>\n",
              "    </tr>\n",
              "    <tr>\n",
              "      <th>2</th>\n",
              "      <td>2809128</td>\n",
              "      <td>四方达(300179)股东减持60万股 套现414.6万元收到欧盟打款后希腊总理宣布辞职再选...</td>\n",
              "      <td>业绩下滑</td>\n",
              "      <td>巨力索具</td>\n",
              "      <td>86</td>\n",
              "    </tr>\n",
              "    <tr>\n",
              "      <th>3</th>\n",
              "      <td>2221860</td>\n",
              "      <td>单元式空调抽查不合格名单春兰、日立产品入列北大荒(600598)计提坏账净利骤降83.5%好...</td>\n",
              "      <td>业绩下滑</td>\n",
              "      <td>北大荒</td>\n",
              "      <td>62</td>\n",
              "    </tr>\n",
              "    <tr>\n",
              "      <th>4</th>\n",
              "      <td>2091205</td>\n",
              "      <td>深航副总裁闪电辞职 “股权之争”仍迷离(IPO路演)龙大肉食(002726)一季度净利“反常...</td>\n",
              "      <td>业绩下滑</td>\n",
              "      <td>龙大肉食</td>\n",
              "      <td>57</td>\n",
              "    </tr>\n",
              "  </tbody>\n",
              "</table>\n",
              "</div>"
            ],
            "text/plain": [
              "        id                                               text  ... company_name len\n",
              "0  2444634   世联君汇预计2017年净利下滑近8成至853万元中超电缆(002471)再遭中超集团减持5%股份  ...         世联君汇  48\n",
              "1  2836026  LG空调亏损严重或效仿新科 两大缺陷遭退市尴尬华兰生物(002007)三季度净利下降45% ...  ...         华兰生物  60\n",
              "2  2809128  四方达(300179)股东减持60万股 套现414.6万元收到欧盟打款后希腊总理宣布辞职再选...  ...         巨力索具  86\n",
              "3  2221860  单元式空调抽查不合格名单春兰、日立产品入列北大荒(600598)计提坏账净利骤降83.5%好...  ...          北大荒  62\n",
              "4  2091205  深航副总裁闪电辞职 “股权之争”仍迷离(IPO路演)龙大肉食(002726)一季度净利“反常...  ...         龙大肉食  57\n",
              "\n",
              "[5 rows x 5 columns]"
            ]
          },
          "metadata": {
            "tags": []
          },
          "execution_count": 4
        }
      ]
    },
    {
      "cell_type": "code",
      "metadata": {
        "id": "P2p81vUw7oG4",
        "colab_type": "code",
        "colab": {
          "base_uri": "https://localhost:8080/",
          "height": 523
        },
        "outputId": "d2232273-3d4a-4fea-db7e-5d221d611ebd"
      },
      "source": [
        "event_counts = train_df.event_name.value_counts()\n",
        "print(f\"type of event_counts = {type(event_counts)}\")\n",
        "event_counts"
      ],
      "execution_count": 5,
      "outputs": [
        {
          "output_type": "stream",
          "text": [
            "type of event_counts = <class 'pandas.core.series.Series'>\n"
          ],
          "name": "stdout"
        },
        {
          "output_type": "execute_result",
          "data": {
            "text/plain": [
              "业务资产重组       7764\n",
              "涉嫌非法集资       4195\n",
              "股票转让-股权受让    3402\n",
              "债务违约         3385\n",
              "涉嫌传销         3107\n",
              "实控人股东变更      2172\n",
              "交易违规         2062\n",
              "不能履职         1573\n",
              "涉嫌欺诈         1504\n",
              "涉嫌违法         1420\n",
              "实际控制人变更      1402\n",
              "重组失败         1283\n",
              "业绩下滑          834\n",
              "财务信息造假        719\n",
              "提现困难          710\n",
              "财务造假          705\n",
              "资金紧张          587\n",
              "商业信息泄露        550\n",
              "实际控制人涉诉仲裁     519\n",
              "歇业停业          458\n",
              "失联跑路          384\n",
              "高管负面          380\n",
              "资产负面          375\n",
              "资金账户风险        372\n",
              "债务重组          342\n",
              "投诉维权          296\n",
              "履行连带担保责任       87\n",
              "Name: event_name, dtype: int64"
            ]
          },
          "metadata": {
            "tags": []
          },
          "execution_count": 5
        }
      ]
    },
    {
      "cell_type": "code",
      "metadata": {
        "id": "3l3L7ULjnAWV",
        "colab_type": "code",
        "colab": {
          "base_uri": "https://localhost:8080/",
          "height": 69
        },
        "outputId": "189b7b5c-75fb-4575-db1f-f4b75e203e26"
      },
      "source": [
        "print(f\"样本最少为{event_counts.min()}\")\n",
        "print(f\"样本最多为{event_counts.max()}\")\n",
        "print(f\"样本平均为{round(event_counts.mean(),4)}\")"
      ],
      "execution_count": 6,
      "outputs": [
        {
          "output_type": "stream",
          "text": [
            "样本最少为87\n",
            "样本最多为7764\n",
            "样本平均为1503.2222\n"
          ],
          "name": "stdout"
        }
      ]
    },
    {
      "cell_type": "code",
      "metadata": {
        "id": "41a2D9esBaXS",
        "colab_type": "code",
        "colab": {
          "base_uri": "https://localhost:8080/",
          "height": 165,
          "referenced_widgets": [
            "2d12b7da78894ae288d957b2d669da53",
            "b9669c6cd913434bb47526ac5a300b0b",
            "1a3ad74b45934d21ad5df7fcb27370dd",
            "89805e3b653e45a39d09cf77fa5c10b1",
            "a0fc3e3a30d64b9da8bdc4795b1328a0",
            "3fe644239c6e4291881aeeb16ef4c6d6",
            "72e40827a22443ffa77840e3211700fa",
            "055a16321b3341e5b5c03bfe3440d558",
            "03e242e346a049d683df10ebb0dbadcf",
            "4dd20f92aac148c1874ef0fd3143c55d",
            "8c98efeedaad40f8b1afdf3729dbc73a",
            "20d4f999c00a43bdbc8ff337dd2b0576",
            "5f978026210d4a01b439e0236d1e1901",
            "3a6cae460b5845f0a06780c7d95676ea",
            "2f593361642740de872b584dd0405116",
            "df65ada14a2c45a0931c66ce21182bde",
            "fa6b53f53baa40e78058e7716c1e6080",
            "e29c2f8a73094ae392b738b11ec1254b",
            "82cc702408e347ae9c0eec7ca20a734f",
            "b441d7efe8b14131b23d3f1e17e4bd11",
            "33eedfc76fc34eeabb54618a42f1d539",
            "07b075a0f84f4bad989c5e4f9ca6414f",
            "2380f2746efe4da58cdbdf655c8a0be7",
            "70ee6e0dba14457fbe3b1303415b6c35"
          ]
        },
        "outputId": "ebbb6428-2ab0-4fed-f51a-c4c951913f44"
      },
      "source": [
        "model_class, tokenizer_class, pretrained_weights = (tfs.BertModel, tfs.BertTokenizer, 'bert-base-chinese')\n",
        "#model_class, tokenizer_class, pretrained_weights = (tfs.BertModel, tfs.BertTokenizer, 'bert-base-uncased')\n",
        "tokenizer = tokenizer_class.from_pretrained(pretrained_weights)\n",
        "model = model_class.from_pretrained(pretrained_weights)"
      ],
      "execution_count": 7,
      "outputs": [
        {
          "output_type": "display_data",
          "data": {
            "application/vnd.jupyter.widget-view+json": {
              "model_id": "2d12b7da78894ae288d957b2d669da53",
              "version_minor": 0,
              "version_major": 2
            },
            "text/plain": [
              "HBox(children=(FloatProgress(value=0.0, description='Downloading', max=109540.0, style=ProgressStyle(descripti…"
            ]
          },
          "metadata": {
            "tags": []
          }
        },
        {
          "output_type": "stream",
          "text": [
            "\n"
          ],
          "name": "stdout"
        },
        {
          "output_type": "display_data",
          "data": {
            "application/vnd.jupyter.widget-view+json": {
              "model_id": "03e242e346a049d683df10ebb0dbadcf",
              "version_minor": 0,
              "version_major": 2
            },
            "text/plain": [
              "HBox(children=(FloatProgress(value=0.0, description='Downloading', max=624.0, style=ProgressStyle(description_…"
            ]
          },
          "metadata": {
            "tags": []
          }
        },
        {
          "output_type": "stream",
          "text": [
            "\n"
          ],
          "name": "stdout"
        },
        {
          "output_type": "display_data",
          "data": {
            "application/vnd.jupyter.widget-view+json": {
              "model_id": "fa6b53f53baa40e78058e7716c1e6080",
              "version_minor": 0,
              "version_major": 2
            },
            "text/plain": [
              "HBox(children=(FloatProgress(value=0.0, description='Downloading', max=411577189.0, style=ProgressStyle(descri…"
            ]
          },
          "metadata": {
            "tags": []
          }
        },
        {
          "output_type": "stream",
          "text": [
            "\n"
          ],
          "name": "stdout"
        }
      ]
    },
    {
      "cell_type": "code",
      "metadata": {
        "id": "fj9B3d6vLwoJ",
        "colab_type": "code",
        "colab": {
          "base_uri": "https://localhost:8080/",
          "height": 52
        },
        "outputId": "059623bf-37f0-4869-9705-41857b046f13"
      },
      "source": [
        "print(tokenizer.encode(\"hello world 谢 稳 文\", add_special_tokens=True))\n",
        "print(tokenizer.encode(\"hello world 谢 稳 文\", add_special_tokens=False))\n",
        "#tokenizer.encode(\"hello world你好啊\", add_special_tokens=True)"
      ],
      "execution_count": 8,
      "outputs": [
        {
          "output_type": "stream",
          "text": [
            "[101, 8701, 8572, 6468, 4937, 3152, 102]\n",
            "[8701, 8572, 6468, 4937, 3152]\n"
          ],
          "name": "stdout"
        }
      ]
    },
    {
      "cell_type": "code",
      "metadata": {
        "id": "LHQzlvKhMV5i",
        "colab_type": "code",
        "colab": {
          "base_uri": "https://localhost:8080/",
          "height": 52
        },
        "outputId": "42af6446-3463-4112-8665-8423f37316ea"
      },
      "source": [
        "train_tokenized = train_df.text.apply((lambda x: tokenizer.encode(x, add_special_tokens=True)))\n",
        "print(f\"train_tokenized type = {type(train_tokenized)}\")\n",
        "train_max_len = 0\n",
        "for i in train_tokenized.values:\n",
        "    if len(i) > train_max_len:\n",
        "        train_max_len = len(i)\n",
        "\n",
        "train_padded = np.array([i + [0] * (train_max_len-len(i)) for i in train_tokenized.values])\n",
        "print(\"train set shape:\",train_padded.shape)\n"
      ],
      "execution_count": 9,
      "outputs": [
        {
          "output_type": "stream",
          "text": [
            "train_tokenized type = <class 'pandas.core.series.Series'>\n",
            "train set shape: (66044, 491)\n"
          ],
          "name": "stdout"
        }
      ]
    },
    {
      "cell_type": "code",
      "metadata": {
        "id": "zfbCTQfmPfB8",
        "colab_type": "code",
        "colab": {}
      },
      "source": [
        "import torch.utils.data as Data\n",
        "from sklearn import preprocessing"
      ],
      "execution_count": 10,
      "outputs": []
    },
    {
      "cell_type": "code",
      "metadata": {
        "id": "s5lWtFvL-BRu",
        "colab_type": "code",
        "colab": {
          "base_uri": "https://localhost:8080/",
          "height": 104
        },
        "outputId": "a6f2a6d0-2f9d-408b-ecce-66eb0f7698d9"
      },
      "source": [
        "label = train_df.event_name.tolist()\n",
        "le = preprocessing.LabelEncoder()\n",
        "le.fit(label)\n",
        "y = le.transform(label)\n",
        "x = train_padded\n",
        "print(type(y))\n",
        "print(y[0:10])\n",
        "print(label[0:10])\n",
        "print(f\"x shape ={x.shape}\")\n",
        "print(f\"y shape ={y.shape}\")"
      ],
      "execution_count": 11,
      "outputs": [
        {
          "output_type": "stream",
          "text": [
            "<class 'numpy.ndarray'>\n",
            "[3 3 3 3 3 3 3 3 3 3]\n",
            "['业绩下滑', '业绩下滑', '业绩下滑', '业绩下滑', '业绩下滑', '业绩下滑', '业绩下滑', '业绩下滑', '业绩下滑', '业绩下滑']\n",
            "x shape =(66044, 491)\n",
            "y shape =(66044,)\n"
          ],
          "name": "stdout"
        }
      ]
    },
    {
      "cell_type": "code",
      "metadata": {
        "id": "u4350mOfQH0I",
        "colab_type": "code",
        "colab": {
          "base_uri": "https://localhost:8080/",
          "height": 1000
        },
        "outputId": "ea88bfd4-9756-46dc-bc78-50d0faef7959"
      },
      "source": [
        "import time\n",
        "x = torch.tensor(x).long()\n",
        "y = torch.tensor(y)\n",
        "batch_size = 32\n",
        "torch_dataset = Data.TensorDataset(x , y)\n",
        "loader = Data.DataLoader(\n",
        "    dataset = torch_dataset,\n",
        "    batch_size = batch_size,\n",
        "    shuffle=False,\n",
        "    num_workers = 2,  #采用两个进程来提取\n",
        ")\n",
        "train_x, train_y = None, None\n",
        "cost = 0\n",
        "model.to('cuda')\n",
        "for step , (batch_x,batch_y) in enumerate(loader):\n",
        "    # transform……\n",
        "    start = time.time()\n",
        "    \n",
        "    bm = np.where(batch_x != 0, 1, 0)\n",
        "    batch_mask = torch.tensor(bm).long()\n",
        "    with torch.no_grad():\n",
        "      batch_x = batch_x.to('cuda')\n",
        "      batch_mask = batch_mask.to('cuda')\n",
        "      train_last_hidden_states = model(batch_x, attention_mask=batch_mask)\n",
        "      train_last_hidden_states = train_last_hidden_states[0].cpu()\n",
        "    train_features = train_last_hidden_states[:,0,:].numpy()\n",
        "    if train_x is None:\n",
        "        train_x = train_features\n",
        "        train_y = batch_y\n",
        "    else:\n",
        "        train_features = train_last_hidden_states[:,0,:].numpy()\n",
        "        train_x = np.vstack((train_x, train_features))\n",
        "        train_y = np.hstack((train_y,batch_y.numpy()))\n",
        "    cur_cost = time.time() - start\n",
        "    cost = cur_cost if step ==0 else (cost + cur_cost)/2\n",
        "    if step % 50 == 0:\n",
        "      print(f\"step={step}\")\n",
        "      print(f\"average cost = {cost}\")\n",
        "    "
      ],
      "execution_count": 12,
      "outputs": [
        {
          "output_type": "stream",
          "text": [
            "step=0\n",
            "average cost = 2.102489709854126\n",
            "step=50\n",
            "average cost = 2.011817910529777\n",
            "step=100\n",
            "average cost = 2.0035912266546223\n",
            "step=150\n",
            "average cost = 2.00857942695192\n",
            "step=200\n",
            "average cost = 2.006186495801235\n",
            "step=250\n",
            "average cost = 2.0114441864964268\n",
            "step=300\n",
            "average cost = 2.0113031151447207\n",
            "step=350\n",
            "average cost = 2.0096985708201593\n",
            "step=400\n",
            "average cost = 1.998700145689368\n",
            "step=450\n",
            "average cost = 1.9942087288014985\n",
            "step=500\n",
            "average cost = 1.991899917927312\n",
            "step=550\n",
            "average cost = 2.0067433071623855\n",
            "step=600\n",
            "average cost = 1.9933432489701246\n",
            "step=650\n",
            "average cost = 1.9846765187114137\n",
            "step=700\n",
            "average cost = 2.007445124885475\n",
            "step=750\n",
            "average cost = 2.009180439885944\n",
            "step=800\n",
            "average cost = 2.010092803802445\n",
            "step=850\n",
            "average cost = 2.0091040854238655\n",
            "step=900\n",
            "average cost = 2.0145595384747286\n",
            "step=950\n",
            "average cost = 2.015349744736867\n",
            "step=1000\n",
            "average cost = 2.0064153544278467\n",
            "step=1050\n",
            "average cost = 2.0065498509036908\n",
            "step=1100\n",
            "average cost = 2.0114332192954634\n",
            "step=1150\n",
            "average cost = 1.9902895145703448\n",
            "step=1200\n",
            "average cost = 2.014693419666153\n",
            "step=1250\n",
            "average cost = 2.0158358453357135\n",
            "step=1300\n",
            "average cost = 1.9965387423128658\n",
            "step=1350\n",
            "average cost = 2.0111506615491916\n",
            "step=1400\n",
            "average cost = 2.008324930967704\n",
            "step=1450\n",
            "average cost = 2.012868865369869\n",
            "step=1500\n",
            "average cost = 2.0113335948553894\n",
            "step=1550\n",
            "average cost = 2.0090052060911647\n",
            "step=1600\n",
            "average cost = 2.00790604557681\n",
            "step=1650\n",
            "average cost = 2.008966883994199\n",
            "step=1700\n",
            "average cost = 2.009257764008442\n",
            "step=1750\n",
            "average cost = 2.0119139304121\n",
            "step=1800\n",
            "average cost = 2.013539120587952\n",
            "step=1850\n",
            "average cost = 2.010352732017579\n",
            "step=1900\n",
            "average cost = 2.011186604845876\n",
            "step=1950\n",
            "average cost = 2.0156542225612495\n",
            "step=2000\n",
            "average cost = 2.0115488240816832\n",
            "step=2050\n",
            "average cost = 2.0164079099254217\n"
          ],
          "name": "stdout"
        }
      ]
    },
    {
      "cell_type": "code",
      "metadata": {
        "id": "1hGMsjwZfLMu",
        "colab_type": "code",
        "colab": {}
      },
      "source": [
        ""
      ],
      "execution_count": 12,
      "outputs": []
    },
    {
      "cell_type": "markdown",
      "metadata": {
        "id": "KTs2Cv_LyNjz",
        "colab_type": "text"
      },
      "source": [
        "### 直接利用LogisticRegression模型训练。"
      ]
    },
    {
      "cell_type": "code",
      "metadata": {
        "id": "wL2qwvn1fMUJ",
        "colab_type": "code",
        "colab": {
          "base_uri": "https://localhost:8080/",
          "height": 69
        },
        "outputId": "d9ed3ecd-8e30-4369-e264-771794b814a7"
      },
      "source": [
        "print(train_x.shape)\n",
        "print(train_y.shape)\n",
        "lr_clf = LogisticRegression()\n",
        "lr_clf.fit(train_x, train_y)\n",
        "lr_clf.score(train_x, train_y)"
      ],
      "execution_count": 13,
      "outputs": [
        {
          "output_type": "stream",
          "text": [
            "(66044, 768)\n",
            "(66044,)\n"
          ],
          "name": "stdout"
        },
        {
          "output_type": "execute_result",
          "data": {
            "text/plain": [
              "0.7736054751377869"
            ]
          },
          "metadata": {
            "tags": []
          },
          "execution_count": 13
        }
      ]
    },
    {
      "cell_type": "code",
      "metadata": {
        "id": "WPBlGTSur8Z4",
        "colab_type": "code",
        "colab": {}
      },
      "source": [
        ""
      ],
      "execution_count": 13,
      "outputs": []
    },
    {
      "cell_type": "markdown",
      "metadata": {
        "id": "2QWHz54GQBWk",
        "colab_type": "text"
      },
      "source": [
        "### 实验结果\n",
        "1. 不fine-tuning情况下，准确率0.774"
      ]
    },
    {
      "cell_type": "code",
      "metadata": {
        "id": "iKamRMKGam3I",
        "colab_type": "code",
        "colab": {}
      },
      "source": [
        ""
      ],
      "execution_count": 13,
      "outputs": []
    }
  ]
}