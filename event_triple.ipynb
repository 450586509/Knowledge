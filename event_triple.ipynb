{
  "nbformat": 4,
  "nbformat_minor": 0,
  "metadata": {
    "colab": {
      "name": "event_triple.ipynb",
      "provenance": [],
      "authorship_tag": "ABX9TyMnMQXGzvVx3MHxRQHspooW",
      "include_colab_link": true
    },
    "kernelspec": {
      "name": "python3",
      "display_name": "Python 3"
    }
  },
  "cells": [
    {
      "cell_type": "markdown",
      "metadata": {
        "id": "view-in-github",
        "colab_type": "text"
      },
      "source": [
        "<a href=\"https://colab.research.google.com/github/450586509/Knowledge/blob/master/event_triple.ipynb\" target=\"_parent\"><img src=\"https://colab.research.google.com/assets/colab-badge.svg\" alt=\"Open In Colab\"/></a>"
      ]
    },
    {
      "cell_type": "code",
      "metadata": {
        "id": "CUJxFAaDu5q5",
        "colab_type": "code",
        "outputId": "a07c56e4-066d-470e-babe-87a1418717a4",
        "colab": {
          "base_uri": "https://localhost:8080/",
          "height": 35
        }
      },
      "source": [
        "!pip install pyltp\n",
        "import os\n",
        "from pyltp import Segmentor, Postagger, Parser, NamedEntityRecognizer, SementicRoleLabeller"
      ],
      "execution_count": 9,
      "outputs": [
        {
          "output_type": "stream",
          "text": [
            "Requirement already satisfied: pyltp in /usr/local/lib/python3.6/dist-packages (0.2.1)\n"
          ],
          "name": "stdout"
        }
      ]
    },
    {
      "cell_type": "code",
      "metadata": {
        "id": "_lieNkNvvojp",
        "colab_type": "code",
        "outputId": "a767f943-35f4-4284-883a-352d21589215",
        "colab": {
          "base_uri": "https://localhost:8080/"
        }
      },
      "source": [
        "print(\"hello\")"
      ],
      "execution_count": 10,
      "outputs": [
        {
          "output_type": "stream",
          "text": [
            "hello\n"
          ],
          "name": "stdout"
        }
      ]
    },
    {
      "cell_type": "code",
      "metadata": {
        "id": "8e7_NihHvi4E",
        "colab_type": "code",
        "outputId": "8ace1ac0-4c92-40ab-993f-cac7ddda2aea",
        "colab": {
          "base_uri": "https://localhost:8080/",
          "height": 215
        }
      },
      "source": [
        "!wget http://model.scir.yunfutech.com/model/ltp_data_v3.4.0.zip"
      ],
      "execution_count": 16,
      "outputs": [
        {
          "output_type": "stream",
          "text": [
            "--2020-04-03 11:50:38--  http://model.scir.yunfutech.com/model/ltp_data_v3.4.0.zip\n",
            "Resolving model.scir.yunfutech.com (model.scir.yunfutech.com)... 47.246.21.234, 47.246.18.232, 47.246.17.227, ...\n",
            "Connecting to model.scir.yunfutech.com (model.scir.yunfutech.com)|47.246.21.234|:80... connected.\n",
            "HTTP request sent, awaiting response... 200 OK\n",
            "Length: 637993278 (608M) [application/zip]\n",
            "Saving to: ‘ltp_data_v3.4.0.zip’\n",
            "\n",
            "ltp_data_v3.4.0.zip 100%[===================>] 608.44M  10.0MB/s    in 62s     \n",
            "\n",
            "2020-04-03 11:51:42 (9.86 MB/s) - ‘ltp_data_v3.4.0.zip’ saved [637993278/637993278]\n",
            "\n"
          ],
          "name": "stdout"
        }
      ]
    },
    {
      "cell_type": "markdown",
      "metadata": {
        "id": "qcrhWKQJvlU9",
        "colab_type": "text"
      },
      "source": [
        ""
      ]
    },
    {
      "cell_type": "code",
      "metadata": {
        "id": "uEKQQ2FNu887",
        "colab_type": "code",
        "colab": {
          "base_uri": "https://localhost:8080/",
          "height": 179
        },
        "outputId": "f2660147-82a0-4eae-887f-79a834fc5968"
      },
      "source": [
        "!unzip ltp_data_v3.4.0.zip"
      ],
      "execution_count": 18,
      "outputs": [
        {
          "output_type": "stream",
          "text": [
            "Archive:  ltp_data_v3.4.0.zip\n",
            "   creating: ltp_data_v3.4.0/\n",
            "  inflating: ltp_data_v3.4.0/cws.model  \n",
            "  inflating: ltp_data_v3.4.0/md5.txt  \n",
            "  inflating: ltp_data_v3.4.0/ner.model  \n",
            "  inflating: ltp_data_v3.4.0/parser.model  \n",
            "  inflating: ltp_data_v3.4.0/pisrl.model  \n",
            "  inflating: ltp_data_v3.4.0/pos.model  \n",
            "  inflating: ltp_data_v3.4.0/version  \n"
          ],
          "name": "stdout"
        }
      ]
    },
    {
      "cell_type": "code",
      "metadata": {
        "id": "60MXU53Z4iTv",
        "colab_type": "code",
        "colab": {
          "base_uri": "https://localhost:8080/"
        },
        "outputId": "b19eff72-0541-406b-b88a-6ee655afe562"
      },
      "source": [
        "!ls"
      ],
      "execution_count": 19,
      "outputs": [
        {
          "output_type": "stream",
          "text": [
            "ltp_data_v3.4.0  ltp_data_v3.4.0.zip  sample_data\n"
          ],
          "name": "stdout"
        }
      ]
    },
    {
      "cell_type": "code",
      "metadata": {
        "id": "BDZN-CUl4pNR",
        "colab_type": "code",
        "colab": {
          "base_uri": "https://localhost:8080/"
        },
        "outputId": "c685b109-7c5f-48dc-cc43-1f10f02f2e8e"
      },
      "source": [
        "!ls"
      ],
      "execution_count": 20,
      "outputs": [
        {
          "output_type": "stream",
          "text": [
            "ltp_data_v3.4.0  ltp_data_v3.4.0.zip  sample_data\n"
          ],
          "name": "stdout"
        }
      ]
    },
    {
      "cell_type": "code",
      "metadata": {
        "id": "_PNtLXYJ4vtf",
        "colab_type": "code",
        "colab": {}
      },
      "source": [
        "class LtpParser:\n",
        "    def __init__(self):\n",
        "        LTP_DIR = \"./ltp_data_v3.4.0\"\n",
        "        self.segmentor = Segmentor()\n",
        "        self.segmentor.load(os.path.join(LTP_DIR, \"cws.model\"))\n",
        "\n",
        "        self.postagger = Postagger()\n",
        "        self.postagger.load(os.path.join(LTP_DIR, \"pos.model\"))\n",
        "\n",
        "        self.parser = Parser()\n",
        "        self.parser.load(os.path.join(LTP_DIR, \"parser.model\"))\n",
        "\n",
        "        self.recognizer = NamedEntityRecognizer()\n",
        "        self.recognizer.load(os.path.join(LTP_DIR, \"ner.model\"))\n",
        "\n",
        "        self.labeller = SementicRoleLabeller()\n",
        "        self.labeller.load(os.path.join(LTP_DIR, 'pisrl.model'))\n",
        "\n",
        "    '''语义角色标注'''\n",
        "    def format_labelrole(self, words, postags):\n",
        "        arcs = self.parser.parse(words, postags)\n",
        "        roles = self.labeller.label(words, postags, arcs)\n",
        "        roles_dict = {}\n",
        "        for role in roles:\n",
        "            roles_dict[role.index] = {arg.name:[arg.name,arg.range.start, arg.range.end] for arg in role.arguments}\n",
        "        return roles_dict\n",
        "\n",
        "    '''句法分析---为句子中的每个词语维护一个保存句法依存儿子节点的字典'''\n",
        "    def build_parse_child_dict(self, words, postags, arcs):\n",
        "        child_dict_list = []\n",
        "        format_parse_list = []\n",
        "        for index in range(len(words)):\n",
        "            child_dict = dict()\n",
        "            for arc_index in range(len(arcs)):\n",
        "                if arcs[arc_index].head == index+1:   #arcs的索引从1开始\n",
        "                    if arcs[arc_index].relation in child_dict:\n",
        "                        child_dict[arcs[arc_index].relation].append(arc_index)\n",
        "                    else:\n",
        "                        child_dict[arcs[arc_index].relation] = []\n",
        "                        child_dict[arcs[arc_index].relation].append(arc_index)\n",
        "            child_dict_list.append(child_dict)\n",
        "        rely_id = [arc.head for arc in arcs]  # 提取依存父节点id\n",
        "        relation = [arc.relation for arc in arcs]  # 提取依存关系\n",
        "        heads = ['Root' if id == 0 else words[id - 1] for id in rely_id]  # 匹配依存父节点词语\n",
        "        for i in range(len(words)):\n",
        "            # ['ATT', '李克强', 0, 'nh', '总理', 1, 'n']\n",
        "            a = [relation[i], words[i], i, postags[i], heads[i], rely_id[i]-1, postags[rely_id[i]-1]]\n",
        "            format_parse_list.append(a)\n",
        "\n",
        "        return child_dict_list, format_parse_list\n",
        "\n",
        "    '''parser主函数'''\n",
        "    def parser_main(self, sentence):\n",
        "        words = list(self.segmentor.segment(sentence))\n",
        "        postags = list(self.postagger.postag(words))\n",
        "        arcs = self.parser.parse(words, postags)\n",
        "        child_dict_list, format_parse_list = self.build_parse_child_dict(words, postags, arcs)\n",
        "        roles_dict = self.format_labelrole(words, postags)\n",
        "        return words, postags, child_dict_list, roles_dict, format_parse_list"
      ],
      "execution_count": 0,
      "outputs": []
    },
    {
      "cell_type": "code",
      "metadata": {
        "id": "JApLGOSd47hD",
        "colab_type": "code",
        "colab": {}
      },
      "source": [
        "parse = LtpParser()\n",
        "    sentence = '李克强总理今天来我家了,我感到非常荣幸'\n",
        "    words, postags, child_dict_list, roles_dict, format_parse_list = parse.parser_main(sentence)\n",
        "    print(words, len(words))\n",
        "    print(postags, len(postags))\n",
        "    print(child_dict_list, len(child_dict_list))\n",
        "    print(roles_dict)\n",
        "    print(format_parse_list, len(format_parse_list))"
      ],
      "execution_count": 0,
      "outputs": []
    }
  ]
}