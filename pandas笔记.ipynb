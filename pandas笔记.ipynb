{
  "nbformat": 4,
  "nbformat_minor": 0,
  "metadata": {
    "colab": {
      "name": "pandas笔记.ipynb",
      "provenance": [],
      "collapsed_sections": [],
      "authorship_tag": "ABX9TyNLzhDtXxUZi1iP8YpWF/8t",
      "include_colab_link": true
    },
    "kernelspec": {
      "name": "python3",
      "display_name": "Python 3"
    }
  },
  "cells": [
    {
      "cell_type": "markdown",
      "metadata": {
        "id": "view-in-github",
        "colab_type": "text"
      },
      "source": [
        "<a href=\"https://colab.research.google.com/github/450586509/Knowledge/blob/master/pandas%E7%AC%94%E8%AE%B0.ipynb\" target=\"_parent\"><img src=\"https://colab.research.google.com/assets/colab-badge.svg\" alt=\"Open In Colab\"/></a>"
      ]
    },
    {
      "cell_type": "markdown",
      "metadata": {
        "id": "uYzPY3KuVU6L",
        "colab_type": "text"
      },
      "source": [
        "## pandas的使用"
      ]
    },
    {
      "cell_type": "code",
      "metadata": {
        "id": "IrHOOdEbVLgT",
        "colab_type": "code",
        "colab": {}
      },
      "source": [
        "import pandas as pd\n",
        "import numpy as np\n"
      ],
      "execution_count": 3,
      "outputs": []
    },
    {
      "cell_type": "code",
      "metadata": {
        "id": "hcVqfoEFVaVL",
        "colab_type": "code",
        "colab": {}
      },
      "source": [
        "df = pd.DataFrame(np.random.rand(4,4), columns = list(\"abcd\"))\n",
        "#df = pd.DataFrame(np.random.rand(4,4))"
      ],
      "execution_count": 4,
      "outputs": []
    },
    {
      "cell_type": "code",
      "metadata": {
        "id": "mgER347lVh4r",
        "colab_type": "code",
        "colab": {
          "base_uri": "https://localhost:8080/",
          "height": 168
        },
        "outputId": "a5689e31-eaac-4fd2-d034-4ac760ee2359"
      },
      "source": [
        "df"
      ],
      "execution_count": 5,
      "outputs": [
        {
          "output_type": "execute_result",
          "data": {
            "text/html": [
              "<div>\n",
              "<style scoped>\n",
              "    .dataframe tbody tr th:only-of-type {\n",
              "        vertical-align: middle;\n",
              "    }\n",
              "\n",
              "    .dataframe tbody tr th {\n",
              "        vertical-align: top;\n",
              "    }\n",
              "\n",
              "    .dataframe thead th {\n",
              "        text-align: right;\n",
              "    }\n",
              "</style>\n",
              "<table border=\"1\" class=\"dataframe\">\n",
              "  <thead>\n",
              "    <tr style=\"text-align: right;\">\n",
              "      <th></th>\n",
              "      <th>a</th>\n",
              "      <th>b</th>\n",
              "      <th>c</th>\n",
              "      <th>d</th>\n",
              "    </tr>\n",
              "  </thead>\n",
              "  <tbody>\n",
              "    <tr>\n",
              "      <th>0</th>\n",
              "      <td>0.454777</td>\n",
              "      <td>0.874798</td>\n",
              "      <td>0.521118</td>\n",
              "      <td>0.559028</td>\n",
              "    </tr>\n",
              "    <tr>\n",
              "      <th>1</th>\n",
              "      <td>0.421147</td>\n",
              "      <td>0.389004</td>\n",
              "      <td>0.533966</td>\n",
              "      <td>0.254666</td>\n",
              "    </tr>\n",
              "    <tr>\n",
              "      <th>2</th>\n",
              "      <td>0.316520</td>\n",
              "      <td>0.512646</td>\n",
              "      <td>0.779182</td>\n",
              "      <td>0.778499</td>\n",
              "    </tr>\n",
              "    <tr>\n",
              "      <th>3</th>\n",
              "      <td>0.272434</td>\n",
              "      <td>0.505510</td>\n",
              "      <td>0.381090</td>\n",
              "      <td>0.642713</td>\n",
              "    </tr>\n",
              "  </tbody>\n",
              "</table>\n",
              "</div>"
            ],
            "text/plain": [
              "          a         b         c         d\n",
              "0  0.454777  0.874798  0.521118  0.559028\n",
              "1  0.421147  0.389004  0.533966  0.254666\n",
              "2  0.316520  0.512646  0.779182  0.778499\n",
              "3  0.272434  0.505510  0.381090  0.642713"
            ]
          },
          "metadata": {
            "tags": []
          },
          "execution_count": 5
        }
      ]
    },
    {
      "cell_type": "markdown",
      "metadata": {
        "id": "7CnAJISWYk6E",
        "colab_type": "text"
      },
      "source": [
        "### dataframe安装某列排序"
      ]
    },
    {
      "cell_type": "code",
      "metadata": {
        "id": "PG9vHw6eVjuZ",
        "colab_type": "code",
        "colab": {
          "base_uri": "https://localhost:8080/",
          "height": 168
        },
        "outputId": "6aa0af04-a40c-4463-e3a6-cad543e5661b"
      },
      "source": [
        "df_sort = df.sort_values([\"a\"])\n",
        "df_sort"
      ],
      "execution_count": 6,
      "outputs": [
        {
          "output_type": "execute_result",
          "data": {
            "text/html": [
              "<div>\n",
              "<style scoped>\n",
              "    .dataframe tbody tr th:only-of-type {\n",
              "        vertical-align: middle;\n",
              "    }\n",
              "\n",
              "    .dataframe tbody tr th {\n",
              "        vertical-align: top;\n",
              "    }\n",
              "\n",
              "    .dataframe thead th {\n",
              "        text-align: right;\n",
              "    }\n",
              "</style>\n",
              "<table border=\"1\" class=\"dataframe\">\n",
              "  <thead>\n",
              "    <tr style=\"text-align: right;\">\n",
              "      <th></th>\n",
              "      <th>a</th>\n",
              "      <th>b</th>\n",
              "      <th>c</th>\n",
              "      <th>d</th>\n",
              "    </tr>\n",
              "  </thead>\n",
              "  <tbody>\n",
              "    <tr>\n",
              "      <th>3</th>\n",
              "      <td>0.272434</td>\n",
              "      <td>0.505510</td>\n",
              "      <td>0.381090</td>\n",
              "      <td>0.642713</td>\n",
              "    </tr>\n",
              "    <tr>\n",
              "      <th>2</th>\n",
              "      <td>0.316520</td>\n",
              "      <td>0.512646</td>\n",
              "      <td>0.779182</td>\n",
              "      <td>0.778499</td>\n",
              "    </tr>\n",
              "    <tr>\n",
              "      <th>1</th>\n",
              "      <td>0.421147</td>\n",
              "      <td>0.389004</td>\n",
              "      <td>0.533966</td>\n",
              "      <td>0.254666</td>\n",
              "    </tr>\n",
              "    <tr>\n",
              "      <th>0</th>\n",
              "      <td>0.454777</td>\n",
              "      <td>0.874798</td>\n",
              "      <td>0.521118</td>\n",
              "      <td>0.559028</td>\n",
              "    </tr>\n",
              "  </tbody>\n",
              "</table>\n",
              "</div>"
            ],
            "text/plain": [
              "          a         b         c         d\n",
              "3  0.272434  0.505510  0.381090  0.642713\n",
              "2  0.316520  0.512646  0.779182  0.778499\n",
              "1  0.421147  0.389004  0.533966  0.254666\n",
              "0  0.454777  0.874798  0.521118  0.559028"
            ]
          },
          "metadata": {
            "tags": []
          },
          "execution_count": 6
        }
      ]
    },
    {
      "cell_type": "code",
      "metadata": {
        "id": "4iDDMADaVpOn",
        "colab_type": "code",
        "colab": {
          "base_uri": "https://localhost:8080/",
          "height": 168
        },
        "outputId": "4f22bedc-dd22-41a0-f907-56af9390f239"
      },
      "source": [
        "df_sort.reset_index(drop=True)"
      ],
      "execution_count": 7,
      "outputs": [
        {
          "output_type": "execute_result",
          "data": {
            "text/html": [
              "<div>\n",
              "<style scoped>\n",
              "    .dataframe tbody tr th:only-of-type {\n",
              "        vertical-align: middle;\n",
              "    }\n",
              "\n",
              "    .dataframe tbody tr th {\n",
              "        vertical-align: top;\n",
              "    }\n",
              "\n",
              "    .dataframe thead th {\n",
              "        text-align: right;\n",
              "    }\n",
              "</style>\n",
              "<table border=\"1\" class=\"dataframe\">\n",
              "  <thead>\n",
              "    <tr style=\"text-align: right;\">\n",
              "      <th></th>\n",
              "      <th>a</th>\n",
              "      <th>b</th>\n",
              "      <th>c</th>\n",
              "      <th>d</th>\n",
              "    </tr>\n",
              "  </thead>\n",
              "  <tbody>\n",
              "    <tr>\n",
              "      <th>0</th>\n",
              "      <td>0.272434</td>\n",
              "      <td>0.505510</td>\n",
              "      <td>0.381090</td>\n",
              "      <td>0.642713</td>\n",
              "    </tr>\n",
              "    <tr>\n",
              "      <th>1</th>\n",
              "      <td>0.316520</td>\n",
              "      <td>0.512646</td>\n",
              "      <td>0.779182</td>\n",
              "      <td>0.778499</td>\n",
              "    </tr>\n",
              "    <tr>\n",
              "      <th>2</th>\n",
              "      <td>0.421147</td>\n",
              "      <td>0.389004</td>\n",
              "      <td>0.533966</td>\n",
              "      <td>0.254666</td>\n",
              "    </tr>\n",
              "    <tr>\n",
              "      <th>3</th>\n",
              "      <td>0.454777</td>\n",
              "      <td>0.874798</td>\n",
              "      <td>0.521118</td>\n",
              "      <td>0.559028</td>\n",
              "    </tr>\n",
              "  </tbody>\n",
              "</table>\n",
              "</div>"
            ],
            "text/plain": [
              "          a         b         c         d\n",
              "0  0.272434  0.505510  0.381090  0.642713\n",
              "1  0.316520  0.512646  0.779182  0.778499\n",
              "2  0.421147  0.389004  0.533966  0.254666\n",
              "3  0.454777  0.874798  0.521118  0.559028"
            ]
          },
          "metadata": {
            "tags": []
          },
          "execution_count": 7
        }
      ]
    },
    {
      "cell_type": "code",
      "metadata": {
        "id": "rf1ArTiHYPrl",
        "colab_type": "code",
        "colab": {
          "base_uri": "https://localhost:8080/",
          "height": 35
        },
        "outputId": "8b5ed630-c2ad-4441-a51e-6935384c7383"
      },
      "source": [
        "df_sort.shape"
      ],
      "execution_count": 8,
      "outputs": [
        {
          "output_type": "execute_result",
          "data": {
            "text/plain": [
              "(4, 4)"
            ]
          },
          "metadata": {
            "tags": []
          },
          "execution_count": 8
        }
      ]
    },
    {
      "cell_type": "code",
      "metadata": {
        "id": "6uZHgiSceR9I",
        "colab_type": "code",
        "colab": {
          "base_uri": "https://localhost:8080/",
          "height": 104
        },
        "outputId": "a0c004be-2157-4500-f7d7-332487ba7810"
      },
      "source": [
        "df_sort.b"
      ],
      "execution_count": 9,
      "outputs": [
        {
          "output_type": "execute_result",
          "data": {
            "text/plain": [
              "3    0.505510\n",
              "2    0.512646\n",
              "1    0.389004\n",
              "0    0.874798\n",
              "Name: b, dtype: float64"
            ]
          },
          "metadata": {
            "tags": []
          },
          "execution_count": 9
        }
      ]
    },
    {
      "cell_type": "code",
      "metadata": {
        "id": "EFK_udYsfmr5",
        "colab_type": "code",
        "colab": {
          "base_uri": "https://localhost:8080/",
          "height": 35
        },
        "outputId": "21cfc671-b142-4eb0-afd5-f41c865b9d37"
      },
      "source": [
        "df_sort.columns.values.tolist()"
      ],
      "execution_count": 10,
      "outputs": [
        {
          "output_type": "execute_result",
          "data": {
            "text/plain": [
              "['a', 'b', 'c', 'd']"
            ]
          },
          "metadata": {
            "tags": []
          },
          "execution_count": 10
        }
      ]
    },
    {
      "cell_type": "code",
      "metadata": {
        "id": "8Tenjp14kGhg",
        "colab_type": "code",
        "colab": {}
      },
      "source": [
        "df_sort.columns=[\"aa\",\"bb\",\"cc\", \"dd\"]"
      ],
      "execution_count": 11,
      "outputs": []
    },
    {
      "cell_type": "code",
      "metadata": {
        "id": "WuQzjoB-kf-k",
        "colab_type": "code",
        "colab": {
          "base_uri": "https://localhost:8080/",
          "height": 168
        },
        "outputId": "782bb051-afae-408e-a9fe-941c757da23f"
      },
      "source": [
        "df_sort.head(6)"
      ],
      "execution_count": 15,
      "outputs": [
        {
          "output_type": "execute_result",
          "data": {
            "text/html": [
              "<div>\n",
              "<style scoped>\n",
              "    .dataframe tbody tr th:only-of-type {\n",
              "        vertical-align: middle;\n",
              "    }\n",
              "\n",
              "    .dataframe tbody tr th {\n",
              "        vertical-align: top;\n",
              "    }\n",
              "\n",
              "    .dataframe thead th {\n",
              "        text-align: right;\n",
              "    }\n",
              "</style>\n",
              "<table border=\"1\" class=\"dataframe\">\n",
              "  <thead>\n",
              "    <tr style=\"text-align: right;\">\n",
              "      <th></th>\n",
              "      <th>aa</th>\n",
              "      <th>bb</th>\n",
              "      <th>cc</th>\n",
              "      <th>dd</th>\n",
              "    </tr>\n",
              "  </thead>\n",
              "  <tbody>\n",
              "    <tr>\n",
              "      <th>3</th>\n",
              "      <td>0.272434</td>\n",
              "      <td>0.505510</td>\n",
              "      <td>0.381090</td>\n",
              "      <td>0.642713</td>\n",
              "    </tr>\n",
              "    <tr>\n",
              "      <th>2</th>\n",
              "      <td>0.316520</td>\n",
              "      <td>0.512646</td>\n",
              "      <td>0.779182</td>\n",
              "      <td>0.778499</td>\n",
              "    </tr>\n",
              "    <tr>\n",
              "      <th>1</th>\n",
              "      <td>0.421147</td>\n",
              "      <td>0.389004</td>\n",
              "      <td>0.533966</td>\n",
              "      <td>0.254666</td>\n",
              "    </tr>\n",
              "    <tr>\n",
              "      <th>0</th>\n",
              "      <td>0.454777</td>\n",
              "      <td>0.874798</td>\n",
              "      <td>0.521118</td>\n",
              "      <td>0.559028</td>\n",
              "    </tr>\n",
              "  </tbody>\n",
              "</table>\n",
              "</div>"
            ],
            "text/plain": [
              "         aa        bb        cc        dd\n",
              "3  0.272434  0.505510  0.381090  0.642713\n",
              "2  0.316520  0.512646  0.779182  0.778499\n",
              "1  0.421147  0.389004  0.533966  0.254666\n",
              "0  0.454777  0.874798  0.521118  0.559028"
            ]
          },
          "metadata": {
            "tags": []
          },
          "execution_count": 15
        }
      ]
    },
    {
      "cell_type": "code",
      "metadata": {
        "id": "zLsXMSvJakE0",
        "colab_type": "code",
        "colab": {}
      },
      "source": [
        ""
      ],
      "execution_count": 12,
      "outputs": []
    }
  ]
}